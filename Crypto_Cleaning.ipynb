{
 "cells": [
  {
   "cell_type": "code",
   "execution_count": 23,
   "id": "7d20b976-0d53-4cdc-9c96-f9a3662365d2",
   "metadata": {},
   "outputs": [],
   "source": [
    "#Import Libraries\n",
    "import pandas as pd\n",
    "from selenium import webdriver\n",
    "from selenium.webdriver.chrome.service import Service\n",
    "from selenium.webdriver.chrome.options import Options as chromeoptions\n",
    "from selenium.webdriver.common.by import By\n",
    "from webdriver_manager.chrome import ChromeDriverManager\n",
    "import requests\n",
    "import json"
   ]
  },
  {
   "cell_type": "code",
   "execution_count": 2,
   "id": "226c61bd-ea0c-44d9-838f-953f4385ec97",
   "metadata": {},
   "outputs": [],
   "source": [
    "#Creating webdriver instance as well as options for fullscreen\n",
    "options = chromeoptions()\n",
    "options.add_argument(\"--window-size=1920,1080\")\n",
    "driver = webdriver.Chrome(options=options,service=Service(ChromeDriverManager().install()))"
   ]
  },
  {
   "cell_type": "code",
   "execution_count": 3,
   "id": "e1703e90-9325-407a-913c-6d27aa8123e4",
   "metadata": {},
   "outputs": [],
   "source": [
    "#getting url through webdriver and open instance of global crypto data\n",
    "url=\"https://api.coinlore.net/api/global/\"\n",
    "driver.get(url)"
   ]
  },
  {
   "cell_type": "code",
   "execution_count": 4,
   "id": "f2cb21e1-d339-4555-9647-3eae55582b8a",
   "metadata": {},
   "outputs": [],
   "source": [
    "#obtain contents of page\n",
    "page_source = driver.page_source"
   ]
  },
  {
   "cell_type": "code",
   "execution_count": 29,
   "id": "dd209891-92a7-4272-9c55-e544c721da08",
   "metadata": {},
   "outputs": [],
   "source": [
    "#drop all html tags of page to prep for json structure\n",
    "json_page=page_source.replace(\"<html><head></head><body>\", \"\").replace(\"</body></html>\", \"\")"
   ]
  },
  {
   "cell_type": "code",
   "execution_count": 39,
   "id": "6e7fa1ed-4db8-4eb3-9c7a-32d1f94098a3",
   "metadata": {},
   "outputs": [],
   "source": [
    "#store json object of current crypto market data\n",
    "data = json.loads(json_page)"
   ]
  }
 ],
 "metadata": {
  "kernelspec": {
   "display_name": "Python [conda env:data_science] *",
   "language": "python",
   "name": "conda-env-data_science-py"
  },
  "language_info": {
   "codemirror_mode": {
    "name": "ipython",
    "version": 3
   },
   "file_extension": ".py",
   "mimetype": "text/x-python",
   "name": "python",
   "nbconvert_exporter": "python",
   "pygments_lexer": "ipython3",
   "version": "3.9.12"
  }
 },
 "nbformat": 4,
 "nbformat_minor": 5
}
