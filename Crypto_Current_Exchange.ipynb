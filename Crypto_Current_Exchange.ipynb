{
 "cells": [
  {
   "cell_type": "code",
   "execution_count": 1,
   "id": "d59150ac-bcd6-4a61-b997-6abd792c6757",
   "metadata": {},
   "outputs": [],
   "source": [
    "#Import Libraries\n",
    "import pandas as pd\n",
    "from selenium import webdriver\n",
    "from selenium.webdriver.chrome.service import Service\n",
    "from selenium.webdriver.chrome.options import Options as chromeoptions\n",
    "from webdriver_manager.chrome import ChromeDriverManager\n",
    "import requests\n",
    "import json\n",
    "import re"
   ]
  },
  {
   "cell_type": "code",
   "execution_count": 2,
   "id": "b181b8fa-ec50-4693-9d00-695289cc18e5",
   "metadata": {},
   "outputs": [],
   "source": [
    "#Creating webdriver instance as well as options for fullscreen\n",
    "options = chromeoptions()\n",
    "options.add_argument(\"--window-size=1920,1080\")\n",
    "driver = webdriver.Chrome(options=options,service=Service(ChromeDriverManager().install()))"
   ]
  },
  {
   "cell_type": "code",
   "execution_count": 10,
   "id": "3dd74b2d-9878-4c35-b2be-e99758141a8d",
   "metadata": {},
   "outputs": [
    {
     "ename": "NoSuchWindowException",
     "evalue": "Message: no such window: target window already closed\nfrom unknown error: web view not found\n  (Session info: chrome=122.0.6261.128)\nStacktrace:\n\tGetHandleVerifier [0x00978D03+51395]\n\t(No symbol) [0x008E5F61]\n\t(No symbol) [0x0079E13A]\n\t(No symbol) [0x007825F2]\n\t(No symbol) [0x007F9B2B]\n\t(No symbol) [0x00809E66]\n\t(No symbol) [0x007F3C26]\n\t(No symbol) [0x007CC629]\n\t(No symbol) [0x007CD40D]\n\tGetHandleVerifier [0x00CF68D3+3712147]\n\tGetHandleVerifier [0x00D35CBA+3971194]\n\tGetHandleVerifier [0x00D30FA8+3951464]\n\tGetHandleVerifier [0x00A29D09+776393]\n\t(No symbol) [0x008F1734]\n\t(No symbol) [0x008EC618]\n\t(No symbol) [0x008EC7C9]\n\t(No symbol) [0x008DDDF0]\n\tBaseThreadInitThunk [0x75FFFCC9+25]\n\tRtlGetAppContainerNamedObjectPath [0x77E97C5E+286]\n\tRtlGetAppContainerNamedObjectPath [0x77E97C2E+238]\n",
     "output_type": "error",
     "traceback": [
      "\u001b[1;31m---------------------------------------------------------------------------\u001b[0m",
      "\u001b[1;31mNoSuchWindowException\u001b[0m                     Traceback (most recent call last)",
      "Input \u001b[1;32mIn [10]\u001b[0m, in \u001b[0;36m<cell line: 4>\u001b[1;34m()\u001b[0m\n\u001b[0;32m      2\u001b[0m ticker_value\u001b[38;5;241m=\u001b[39m\u001b[38;5;124m\"\u001b[39m\u001b[38;5;124m80\u001b[39m\u001b[38;5;124m\"\u001b[39m\n\u001b[0;32m      3\u001b[0m url\u001b[38;5;241m=\u001b[39m \u001b[38;5;124mf\u001b[39m\u001b[38;5;124m\"\u001b[39m\u001b[38;5;124mhttps://api.coinlore.net/api/ticker?symbol=\u001b[39m\u001b[38;5;132;01m{\u001b[39;00mticker_value\u001b[38;5;132;01m}\u001b[39;00m\u001b[38;5;124m\"\u001b[39m\n\u001b[1;32m----> 4\u001b[0m \u001b[43mdriver\u001b[49m\u001b[38;5;241;43m.\u001b[39;49m\u001b[43mget\u001b[49m\u001b[43m(\u001b[49m\u001b[43murl\u001b[49m\u001b[43m)\u001b[49m\n",
      "File \u001b[1;32m~\\anaconda3\\envs\\data_science\\lib\\site-packages\\selenium\\webdriver\\remote\\webdriver.py:356\u001b[0m, in \u001b[0;36mWebDriver.get\u001b[1;34m(self, url)\u001b[0m\n\u001b[0;32m    354\u001b[0m \u001b[38;5;28;01mdef\u001b[39;00m \u001b[38;5;21mget\u001b[39m(\u001b[38;5;28mself\u001b[39m, url: \u001b[38;5;28mstr\u001b[39m) \u001b[38;5;241m-\u001b[39m\u001b[38;5;241m>\u001b[39m \u001b[38;5;28;01mNone\u001b[39;00m:\n\u001b[0;32m    355\u001b[0m \u001b[38;5;250m    \u001b[39m\u001b[38;5;124;03m\"\"\"Loads a web page in the current browser session.\"\"\"\u001b[39;00m\n\u001b[1;32m--> 356\u001b[0m     \u001b[38;5;28;43mself\u001b[39;49m\u001b[38;5;241;43m.\u001b[39;49m\u001b[43mexecute\u001b[49m\u001b[43m(\u001b[49m\u001b[43mCommand\u001b[49m\u001b[38;5;241;43m.\u001b[39;49m\u001b[43mGET\u001b[49m\u001b[43m,\u001b[49m\u001b[43m \u001b[49m\u001b[43m{\u001b[49m\u001b[38;5;124;43m\"\u001b[39;49m\u001b[38;5;124;43murl\u001b[39;49m\u001b[38;5;124;43m\"\u001b[39;49m\u001b[43m:\u001b[49m\u001b[43m \u001b[49m\u001b[43murl\u001b[49m\u001b[43m}\u001b[49m\u001b[43m)\u001b[49m\n",
      "File \u001b[1;32m~\\anaconda3\\envs\\data_science\\lib\\site-packages\\selenium\\webdriver\\remote\\webdriver.py:347\u001b[0m, in \u001b[0;36mWebDriver.execute\u001b[1;34m(self, driver_command, params)\u001b[0m\n\u001b[0;32m    345\u001b[0m response \u001b[38;5;241m=\u001b[39m \u001b[38;5;28mself\u001b[39m\u001b[38;5;241m.\u001b[39mcommand_executor\u001b[38;5;241m.\u001b[39mexecute(driver_command, params)\n\u001b[0;32m    346\u001b[0m \u001b[38;5;28;01mif\u001b[39;00m response:\n\u001b[1;32m--> 347\u001b[0m     \u001b[38;5;28;43mself\u001b[39;49m\u001b[38;5;241;43m.\u001b[39;49m\u001b[43merror_handler\u001b[49m\u001b[38;5;241;43m.\u001b[39;49m\u001b[43mcheck_response\u001b[49m\u001b[43m(\u001b[49m\u001b[43mresponse\u001b[49m\u001b[43m)\u001b[49m\n\u001b[0;32m    348\u001b[0m     response[\u001b[38;5;124m\"\u001b[39m\u001b[38;5;124mvalue\u001b[39m\u001b[38;5;124m\"\u001b[39m] \u001b[38;5;241m=\u001b[39m \u001b[38;5;28mself\u001b[39m\u001b[38;5;241m.\u001b[39m_unwrap_value(response\u001b[38;5;241m.\u001b[39mget(\u001b[38;5;124m\"\u001b[39m\u001b[38;5;124mvalue\u001b[39m\u001b[38;5;124m\"\u001b[39m, \u001b[38;5;28;01mNone\u001b[39;00m))\n\u001b[0;32m    349\u001b[0m     \u001b[38;5;28;01mreturn\u001b[39;00m response\n",
      "File \u001b[1;32m~\\anaconda3\\envs\\data_science\\lib\\site-packages\\selenium\\webdriver\\remote\\errorhandler.py:229\u001b[0m, in \u001b[0;36mErrorHandler.check_response\u001b[1;34m(self, response)\u001b[0m\n\u001b[0;32m    227\u001b[0m         alert_text \u001b[38;5;241m=\u001b[39m value[\u001b[38;5;124m\"\u001b[39m\u001b[38;5;124malert\u001b[39m\u001b[38;5;124m\"\u001b[39m]\u001b[38;5;241m.\u001b[39mget(\u001b[38;5;124m\"\u001b[39m\u001b[38;5;124mtext\u001b[39m\u001b[38;5;124m\"\u001b[39m)\n\u001b[0;32m    228\u001b[0m     \u001b[38;5;28;01mraise\u001b[39;00m exception_class(message, screen, stacktrace, alert_text)  \u001b[38;5;66;03m# type: ignore[call-arg]  # mypy is not smart enough here\u001b[39;00m\n\u001b[1;32m--> 229\u001b[0m \u001b[38;5;28;01mraise\u001b[39;00m exception_class(message, screen, stacktrace)\n",
      "\u001b[1;31mNoSuchWindowException\u001b[0m: Message: no such window: target window already closed\nfrom unknown error: web view not found\n  (Session info: chrome=122.0.6261.128)\nStacktrace:\n\tGetHandleVerifier [0x00978D03+51395]\n\t(No symbol) [0x008E5F61]\n\t(No symbol) [0x0079E13A]\n\t(No symbol) [0x007825F2]\n\t(No symbol) [0x007F9B2B]\n\t(No symbol) [0x00809E66]\n\t(No symbol) [0x007F3C26]\n\t(No symbol) [0x007CC629]\n\t(No symbol) [0x007CD40D]\n\tGetHandleVerifier [0x00CF68D3+3712147]\n\tGetHandleVerifier [0x00D35CBA+3971194]\n\tGetHandleVerifier [0x00D30FA8+3951464]\n\tGetHandleVerifier [0x00A29D09+776393]\n\t(No symbol) [0x008F1734]\n\t(No symbol) [0x008EC618]\n\t(No symbol) [0x008EC7C9]\n\t(No symbol) [0x008DDDF0]\n\tBaseThreadInitThunk [0x75FFFCC9+25]\n\tRtlGetAppContainerNamedObjectPath [0x77E97C5E+286]\n\tRtlGetAppContainerNamedObjectPath [0x77E97C2E+238]\n"
     ]
    }
   ],
   "source": [
    "##getting url through webdriver, that allows the customization of ticker selection\n",
    "ticker_value=\"80\"\n",
    "url= f\"https://api.coinlore.net/api/ticker?symbol={ticker_value}\"\n",
    "driver.get(url)"
   ]
  },
  {
   "cell_type": "code",
   "execution_count": null,
   "id": "b0a34a14-3ff1-41fd-8beb-2c76372a20de",
   "metadata": {},
   "outputs": [],
   "source": [
    "# obtain contents of page\n",
    "page_source = driver.page_source"
   ]
  },
  {
   "cell_type": "code",
   "execution_count": 5,
   "id": "99cd5514-50d6-44e2-a331-cd43fc396adb",
   "metadata": {},
   "outputs": [],
   "source": [
    "#replace html instances from retrieved content, to convert to json\n",
    "cleaned_json = re.sub(r'<[^>]*>', '', page_source)"
   ]
  },
  {
   "cell_type": "code",
   "execution_count": 6,
   "id": "47abf4ab-e478-4be1-b562-463719f9557d",
   "metadata": {},
   "outputs": [],
   "source": [
    "#load json version of page content\n",
    "data = json.loads(cleaned_json)"
   ]
  },
  {
   "cell_type": "code",
   "execution_count": null,
   "id": "5bcc8c96-38e4-4490-b339-0684923550f1",
   "metadata": {},
   "outputs": [],
   "source": [
    "#Loop designed to collect values of multiple tickers and store them\n",
    "crypto_list=[\"80\",\"90\",\""
   ]
  }
 ],
 "metadata": {
  "kernelspec": {
   "display_name": "Python 3 (ipykernel)",
   "language": "python",
   "name": "python3"
  },
  "language_info": {
   "codemirror_mode": {
    "name": "ipython",
    "version": 3
   },
   "file_extension": ".py",
   "mimetype": "text/x-python",
   "name": "python",
   "nbconvert_exporter": "python",
   "pygments_lexer": "ipython3",
   "version": "3.9.12"
  }
 },
 "nbformat": 4,
 "nbformat_minor": 5
}
