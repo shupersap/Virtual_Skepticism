{
 "cells": [
  {
   "cell_type": "code",
   "execution_count": 1,
   "id": "7d20b976-0d53-4cdc-9c96-f9a3662365d2",
   "metadata": {},
   "outputs": [],
   "source": [
    "#Import Libraries\n",
    "import polars as pl\n",
    "from dotenv import load_dotenv,find_dotenv\n",
    "from selenium import webdriver\n",
    "from selenium.webdriver.chrome.service import Service\n",
    "from selenium.webdriver.chrome.options import Options as chromeoptions\n",
    "from selenium.webdriver.common.by import By\n",
    "from webdriver_manager.chrome import ChromeDriverManager\n",
    "import requests\n",
    "import json\n",
    "import os\n",
    "import re\n",
    "from multiprocessing import Pool"
   ]
  },
  {
   "cell_type": "code",
   "execution_count": 2,
   "id": "226c61bd-ea0c-44d9-838f-953f4385ec97",
   "metadata": {},
   "outputs": [],
   "source": [
    "#Creating webdriver instance as well as options for fullscreen\n",
    "options = chromeoptions()\n",
    "options.add_argument(\"--window-size=1920,1080\")\n",
    "driver = webdriver.Chrome(options=options,service=Service(ChromeDriverManager().install()))"
   ]
  },
  {
   "cell_type": "code",
   "execution_count": 3,
   "id": "25f87b26-925e-4bcc-845b-c47630d2ad26",
   "metadata": {},
   "outputs": [],
   "source": [
    "#retrieve api key from hidden .env file\n",
    "load_dotenv(find_dotenv())\n",
    "hidden_key = os.getenv(\"hidden_api_key\")"
   ]
  },
  {
   "cell_type": "code",
   "execution_count": 83,
   "id": "e1703e90-9325-407a-913c-6d27aa8123e4",
   "metadata": {},
   "outputs": [],
   "source": [
    "#getting url through webdriver and open instance of global crypto data\n",
    "#creating parameters to search\n",
    "symbol=\"BTC\"\n",
    "history_limit=\"365\"\n",
    "url=f\"https://min-api.cryptocompare.com/data/v2/histoday?fsym={symbol}&tsym=USD&limit=365&api_key={api_key}\"\n",
    "driver.get(url)"
   ]
  },
  {
   "cell_type": "code",
   "execution_count": 84,
   "id": "f2f118f6-0979-451a-b9bc-83bba07fa7e0",
   "metadata": {},
   "outputs": [],
   "source": [
    "#see contents of page\n",
    "page_source = driver.page_source"
   ]
  },
  {
   "cell_type": "code",
   "execution_count": 85,
   "id": "38c96c8d-0171-4a09-ad90-61b16e84cbe8",
   "metadata": {},
   "outputs": [],
   "source": [
    "#clear all html denotations\n",
    "cleaned_json = re.sub(r'<[^>]*>', '', page_source)"
   ]
  },
  {
   "cell_type": "code",
   "execution_count": 86,
   "id": "ad8a4889-b571-4593-8628-5692895bbb1d",
   "metadata": {},
   "outputs": [],
   "source": [
    "#verify data collected\n",
    "data = json.loads(cleaned_json)"
   ]
  },
  {
   "cell_type": "code",
   "execution_count": 87,
   "id": "d11900b9-3ee1-4cb4-980d-5a055ab0e115",
   "metadata": {},
   "outputs": [
    {
     "data": {
      "text/html": [
       "<div><style>\n",
       ".dataframe > thead > tr > th,\n",
       ".dataframe > tbody > tr > td {\n",
       "  text-align: right;\n",
       "}\n",
       "</style>\n",
       "<small>shape: (366, 9)</small><table border=\"1\" class=\"dataframe\"><thead><tr><th>time</th><th>high</th><th>low</th><th>open</th><th>volumefrom</th><th>volumeto</th><th>close</th><th>conversionType</th><th>conversionSymbol</th></tr><tr><td>i64</td><td>f64</td><td>f64</td><td>f64</td><td>f64</td><td>f64</td><td>f64</td><td>str</td><td>str</td></tr></thead><tbody><tr><td>1679097600</td><td>27749.91</td><td>26655.22</td><td>27441.41</td><td>48843.14</td><td>1.3355e9</td><td>26973.46</td><td>&quot;direct&quot;</td><td>&quot;&quot;</td></tr><tr><td>1679184000</td><td>28441.41</td><td>26901.66</td><td>26973.46</td><td>48163.58</td><td>1.3379e9</td><td>28040.29</td><td>&quot;direct&quot;</td><td>&quot;&quot;</td></tr><tr><td>1679270400</td><td>28539.63</td><td>27228.03</td><td>28040.29</td><td>65834.79</td><td>1.8387e9</td><td>27807.05</td><td>&quot;direct&quot;</td><td>&quot;&quot;</td></tr><tr><td>1679356800</td><td>28494.87</td><td>27416.8</td><td>27807.05</td><td>45696.4</td><td>1.2822e9</td><td>28188.11</td><td>&quot;direct&quot;</td><td>&quot;&quot;</td></tr><tr><td>1679443200</td><td>28902.98</td><td>26676.69</td><td>28188.11</td><td>81267.64</td><td>2.2779e9</td><td>27316.18</td><td>&quot;direct&quot;</td><td>&quot;&quot;</td></tr><tr><td>1679529600</td><td>28807.82</td><td>27190.13</td><td>27316.18</td><td>63194.55</td><td>1.7692e9</td><td>28345.7</td><td>&quot;direct&quot;</td><td>&quot;&quot;</td></tr><tr><td>1679616000</td><td>28421.94</td><td>27054.76</td><td>28345.7</td><td>52231.16</td><td>1.4570e9</td><td>27493.01</td><td>&quot;direct&quot;</td><td>&quot;&quot;</td></tr><tr><td>1679702400</td><td>27819.55</td><td>27186.95</td><td>27493.01</td><td>22474.29</td><td>6.1810e8</td><td>27492.83</td><td>&quot;direct&quot;</td><td>&quot;&quot;</td></tr><tr><td>1679788800</td><td>28217.66</td><td>27448.83</td><td>27492.83</td><td>26394.91</td><td>7.3460e8</td><td>27995.16</td><td>&quot;direct&quot;</td><td>&quot;&quot;</td></tr><tr><td>1679875200</td><td>28045.33</td><td>26551.46</td><td>27995.16</td><td>45933.42</td><td>1.2562e9</td><td>27146.01</td><td>&quot;direct&quot;</td><td>&quot;&quot;</td></tr><tr><td>1679961600</td><td>27527.5</td><td>26638.39</td><td>27146.01</td><td>36875.77</td><td>9.9757e8</td><td>27266.08</td><td>&quot;direct&quot;</td><td>&quot;&quot;</td></tr><tr><td>1680048000</td><td>28643.21</td><td>27254.72</td><td>27266.08</td><td>49571.43</td><td>1.3969e9</td><td>28355.7</td><td>&quot;direct&quot;</td><td>&quot;&quot;</td></tr><tr><td>&hellip;</td><td>&hellip;</td><td>&hellip;</td><td>&hellip;</td><td>&hellip;</td><td>&hellip;</td><td>&hellip;</td><td>&hellip;</td><td>&hellip;</td></tr><tr><td>1709683200</td><td>67645.97</td><td>62851.27</td><td>63804.11</td><td>68031.77</td><td>4.4984e9</td><td>66115.57</td><td>&quot;direct&quot;</td><td>&quot;&quot;</td></tr><tr><td>1709769600</td><td>68065.89</td><td>65610.94</td><td>66115.57</td><td>41800.64</td><td>2.8044e9</td><td>66928.15</td><td>&quot;direct&quot;</td><td>&quot;&quot;</td></tr><tr><td>1709856000</td><td>70151.23</td><td>66173.73</td><td>66928.15</td><td>59361.92</td><td>4.0462e9</td><td>68269.39</td><td>&quot;direct&quot;</td><td>&quot;&quot;</td></tr><tr><td>1709942400</td><td>68663.92</td><td>68026.81</td><td>68269.39</td><td>16947.1</td><td>1.1587e9</td><td>68446.32</td><td>&quot;direct&quot;</td><td>&quot;&quot;</td></tr><tr><td>1710028800</td><td>69976.84</td><td>68218.19</td><td>68446.32</td><td>27686.99</td><td>1.9196e9</td><td>69023.53</td><td>&quot;direct&quot;</td><td>&quot;&quot;</td></tr><tr><td>1710115200</td><td>72872.77</td><td>67170.42</td><td>69023.53</td><td>62709.74</td><td>4.4766e9</td><td>72095.86</td><td>&quot;direct&quot;</td><td>&quot;&quot;</td></tr><tr><td>1710201600</td><td>72996.99</td><td>68636.43</td><td>72095.86</td><td>58546.01</td><td>4.1731e9</td><td>71449.5</td><td>&quot;direct&quot;</td><td>&quot;&quot;</td></tr><tr><td>1710288000</td><td>73672.14</td><td>71329.7</td><td>71449.5</td><td>41314.41</td><td>3.0083e9</td><td>73118.09</td><td>&quot;direct&quot;</td><td>&quot;&quot;</td></tr><tr><td>1710374400</td><td>73802.64</td><td>68493.91</td><td>73118.09</td><td>60699.01</td><td>4.3259e9</td><td>71366.96</td><td>&quot;direct&quot;</td><td>&quot;&quot;</td></tr><tr><td>1710460800</td><td>72394.97</td><td>65579.78</td><td>71366.96</td><td>73358.94</td><td>5.0164e9</td><td>69497.39</td><td>&quot;direct&quot;</td><td>&quot;&quot;</td></tr><tr><td>1710547200</td><td>70043.23</td><td>64783.87</td><td>69497.39</td><td>33956.52</td><td>2.2959e9</td><td>65260.55</td><td>&quot;direct&quot;</td><td>&quot;&quot;</td></tr><tr><td>1710633600</td><td>68337.67</td><td>64529.3</td><td>65260.55</td><td>23444.07</td><td>1.5580e9</td><td>68320.91</td><td>&quot;direct&quot;</td><td>&quot;&quot;</td></tr></tbody></table></div>"
      ],
      "text/plain": [
       "shape: (366, 9)\n",
       "┌────────────┬──────────┬──────────┬──────────┬───┬──────────┬──────────┬────────────┬────────────┐\n",
       "│ time       ┆ high     ┆ low      ┆ open     ┆ … ┆ volumeto ┆ close    ┆ conversion ┆ conversion │\n",
       "│ ---        ┆ ---      ┆ ---      ┆ ---      ┆   ┆ ---      ┆ ---      ┆ Type       ┆ Symbol     │\n",
       "│ i64        ┆ f64      ┆ f64      ┆ f64      ┆   ┆ f64      ┆ f64      ┆ ---        ┆ ---        │\n",
       "│            ┆          ┆          ┆          ┆   ┆          ┆          ┆ str        ┆ str        │\n",
       "╞════════════╪══════════╪══════════╪══════════╪═══╪══════════╪══════════╪════════════╪════════════╡\n",
       "│ 1679097600 ┆ 27749.91 ┆ 26655.22 ┆ 27441.41 ┆ … ┆ 1.3355e9 ┆ 26973.46 ┆ direct     ┆            │\n",
       "│ 1679184000 ┆ 28441.41 ┆ 26901.66 ┆ 26973.46 ┆ … ┆ 1.3379e9 ┆ 28040.29 ┆ direct     ┆            │\n",
       "│ 1679270400 ┆ 28539.63 ┆ 27228.03 ┆ 28040.29 ┆ … ┆ 1.8387e9 ┆ 27807.05 ┆ direct     ┆            │\n",
       "│ 1679356800 ┆ 28494.87 ┆ 27416.8  ┆ 27807.05 ┆ … ┆ 1.2822e9 ┆ 28188.11 ┆ direct     ┆            │\n",
       "│ …          ┆ …        ┆ …        ┆ …        ┆ … ┆ …        ┆ …        ┆ …          ┆ …          │\n",
       "│ 1710374400 ┆ 73802.64 ┆ 68493.91 ┆ 73118.09 ┆ … ┆ 4.3259e9 ┆ 71366.96 ┆ direct     ┆            │\n",
       "│ 1710460800 ┆ 72394.97 ┆ 65579.78 ┆ 71366.96 ┆ … ┆ 5.0164e9 ┆ 69497.39 ┆ direct     ┆            │\n",
       "│ 1710547200 ┆ 70043.23 ┆ 64783.87 ┆ 69497.39 ┆ … ┆ 2.2959e9 ┆ 65260.55 ┆ direct     ┆            │\n",
       "│ 1710633600 ┆ 68337.67 ┆ 64529.3  ┆ 65260.55 ┆ … ┆ 1.5580e9 ┆ 68320.91 ┆ direct     ┆            │\n",
       "└────────────┴──────────┴──────────┴──────────┴───┴──────────┴──────────┴────────────┴────────────┘"
      ]
     },
     "execution_count": 87,
     "metadata": {},
     "output_type": "execute_result"
    }
   ],
   "source": [
    "#display collected data\n",
    "pl.DataFrame(data[\"Data\"][\"Data\"])"
   ]
  },
  {
   "cell_type": "code",
   "execution_count": null,
   "id": "0b0afb92-a37a-41d4-8bb2-3fbc31800c00",
   "metadata": {},
   "outputs": [],
   "source": [
    "#for symbol in symbols:\n",
    "    #url=f\"https://min-api.cryptocompare.com/data/v2/histoday?fsym={symbol}&tsym=USD&limit=365&api_key={api_key}\""
   ]
  },
  {
   "cell_type": "code",
   "execution_count": 16,
   "id": "dff45f6d-9106-4e28-935b-ee39f3d1afc9",
   "metadata": {},
   "outputs": [],
   "source": [
    "def get_data(symbol,api_key):\n",
    "    url=f\"https://min-api.cryptocompare.com/data/v2/histoday?fsym={symbol}&tsym=USD&limit=365&api_key={api_key}\"\n",
    "    response=requests.get(url)\n",
    "    data=response.json()[\"Data\"][\"Data\"]\n",
    "    data_with_symbol = [{'symbol': symbol, **item} for item in data]\n",
    "    return data_with_symbol"
   ]
  },
  {
   "cell_type": "code",
   "execution_count": 17,
   "id": "9d73ac6b-4fc0-4e37-b9df-d6ce828fd8e8",
   "metadata": {},
   "outputs": [],
   "source": [
    "if __name__ == \"__main__\":\n",
    "    symbols=[\"BTC\", \"ETH\", \"LTC\"]\n",
    "    api_key= hidden_key"
   ]
  },
  {
   "cell_type": "code",
   "execution_count": 18,
   "id": "53e1906b-fc24-45b8-a6c9-5be4297c0663",
   "metadata": {},
   "outputs": [],
   "source": [
    "alls_df =[]\n",
    "with Pool(4) as pool:\n",
    "    for symbol in symbols:\n",
    "        result= get_data(symbol, api_key)\n",
    "        alls_df.append(pl.DataFrame(result))"
   ]
  },
  {
   "cell_type": "code",
   "execution_count": 21,
   "id": "1906eb88-24e4-4567-a4c3-5595d99a74d1",
   "metadata": {},
   "outputs": [],
   "source": [
    "df_final=pl.concat(alls_df)"
   ]
  },
  {
   "cell_type": "code",
   "execution_count": 30,
   "id": "0bed5626-5cf9-4614-89b4-94e1b3313585",
   "metadata": {},
   "outputs": [
    {
     "data": {
      "text/html": [
       "<div><style>\n",
       ".dataframe > thead > tr > th,\n",
       ".dataframe > tbody > tr > td {\n",
       "  text-align: right;\n",
       "}\n",
       "</style>\n",
       "<small>shape: (1_098, 10)</small><table border=\"1\" class=\"dataframe\"><thead><tr><th>symbol</th><th>time</th><th>high</th><th>low</th><th>open</th><th>volumefrom</th><th>volumeto</th><th>close</th><th>conversionType</th><th>conversionSymbol</th></tr><tr><td>str</td><td>i64</td><td>f64</td><td>f64</td><td>f64</td><td>f64</td><td>f64</td><td>f64</td><td>str</td><td>str</td></tr></thead><tbody><tr><td>&quot;BTC&quot;</td><td>1679097600</td><td>27749.91</td><td>26655.22</td><td>27441.41</td><td>48843.14</td><td>1.3355e9</td><td>26973.46</td><td>&quot;direct&quot;</td><td>&quot;&quot;</td></tr><tr><td>&quot;BTC&quot;</td><td>1679184000</td><td>28441.41</td><td>26901.66</td><td>26973.46</td><td>48163.58</td><td>1.3379e9</td><td>28040.29</td><td>&quot;direct&quot;</td><td>&quot;&quot;</td></tr><tr><td>&quot;BTC&quot;</td><td>1679270400</td><td>28539.63</td><td>27228.03</td><td>28040.29</td><td>65834.79</td><td>1.8387e9</td><td>27807.05</td><td>&quot;direct&quot;</td><td>&quot;&quot;</td></tr><tr><td>&quot;BTC&quot;</td><td>1679356800</td><td>28494.87</td><td>27416.8</td><td>27807.05</td><td>45696.4</td><td>1.2822e9</td><td>28188.11</td><td>&quot;direct&quot;</td><td>&quot;&quot;</td></tr><tr><td>&quot;BTC&quot;</td><td>1679443200</td><td>28902.98</td><td>26676.69</td><td>28188.11</td><td>81267.64</td><td>2.2779e9</td><td>27316.18</td><td>&quot;direct&quot;</td><td>&quot;&quot;</td></tr><tr><td>&quot;BTC&quot;</td><td>1679529600</td><td>28807.82</td><td>27190.13</td><td>27316.18</td><td>63194.55</td><td>1.7692e9</td><td>28345.7</td><td>&quot;direct&quot;</td><td>&quot;&quot;</td></tr><tr><td>&quot;BTC&quot;</td><td>1679616000</td><td>28421.94</td><td>27054.76</td><td>28345.7</td><td>52231.16</td><td>1.4570e9</td><td>27493.01</td><td>&quot;direct&quot;</td><td>&quot;&quot;</td></tr><tr><td>&quot;BTC&quot;</td><td>1679702400</td><td>27819.55</td><td>27186.95</td><td>27493.01</td><td>22474.29</td><td>6.1810e8</td><td>27492.83</td><td>&quot;direct&quot;</td><td>&quot;&quot;</td></tr><tr><td>&quot;BTC&quot;</td><td>1679788800</td><td>28217.66</td><td>27448.83</td><td>27492.83</td><td>26394.91</td><td>7.3460e8</td><td>27995.16</td><td>&quot;direct&quot;</td><td>&quot;&quot;</td></tr><tr><td>&quot;BTC&quot;</td><td>1679875200</td><td>28045.33</td><td>26551.46</td><td>27995.16</td><td>45933.42</td><td>1.2562e9</td><td>27146.01</td><td>&quot;direct&quot;</td><td>&quot;&quot;</td></tr><tr><td>&quot;BTC&quot;</td><td>1679961600</td><td>27527.5</td><td>26638.39</td><td>27146.01</td><td>36875.77</td><td>9.9757e8</td><td>27266.08</td><td>&quot;direct&quot;</td><td>&quot;&quot;</td></tr><tr><td>&quot;BTC&quot;</td><td>1680048000</td><td>28643.21</td><td>27254.72</td><td>27266.08</td><td>49571.43</td><td>1.3969e9</td><td>28355.7</td><td>&quot;direct&quot;</td><td>&quot;&quot;</td></tr><tr><td>&hellip;</td><td>&hellip;</td><td>&hellip;</td><td>&hellip;</td><td>&hellip;</td><td>&hellip;</td><td>&hellip;</td><td>&hellip;</td><td>&hellip;</td><td>&hellip;</td></tr><tr><td>&quot;LTC&quot;</td><td>1709683200</td><td>87.4</td><td>79.88</td><td>82.03</td><td>506232.61</td><td>4.2420e7</td><td>85.94</td><td>&quot;direct&quot;</td><td>&quot;&quot;</td></tr><tr><td>&quot;LTC&quot;</td><td>1709769600</td><td>89.73</td><td>83.48</td><td>85.94</td><td>485769.59</td><td>4.2242e7</td><td>88.14</td><td>&quot;direct&quot;</td><td>&quot;&quot;</td></tr><tr><td>&quot;LTC&quot;</td><td>1709856000</td><td>89.6</td><td>84.2</td><td>88.14</td><td>608874.45</td><td>5.3299e7</td><td>88.53</td><td>&quot;direct&quot;</td><td>&quot;&quot;</td></tr><tr><td>&quot;LTC&quot;</td><td>1709942400</td><td>91.12</td><td>87.02</td><td>88.53</td><td>328203.31</td><td>2.9268e7</td><td>90.86</td><td>&quot;direct&quot;</td><td>&quot;&quot;</td></tr><tr><td>&quot;LTC&quot;</td><td>1710028800</td><td>90.97</td><td>85.53</td><td>90.86</td><td>291802.02</td><td>2.5796e7</td><td>87.53</td><td>&quot;direct&quot;</td><td>&quot;&quot;</td></tr><tr><td>&quot;LTC&quot;</td><td>1710115200</td><td>105.68</td><td>83.39</td><td>87.53</td><td>1.2453e6</td><td>1.2176e8</td><td>103.82</td><td>&quot;direct&quot;</td><td>&quot;&quot;</td></tr><tr><td>&quot;LTC&quot;</td><td>1710201600</td><td>104.21</td><td>91.79</td><td>103.82</td><td>733631.82</td><td>7.1808e7</td><td>97.56</td><td>&quot;direct&quot;</td><td>&quot;&quot;</td></tr><tr><td>&quot;LTC&quot;</td><td>1710288000</td><td>98.97</td><td>94.16</td><td>97.56</td><td>447732.48</td><td>4.3456e7</td><td>97.28</td><td>&quot;direct&quot;</td><td>&quot;&quot;</td></tr><tr><td>&quot;LTC&quot;</td><td>1710374400</td><td>98.19</td><td>89.56</td><td>97.28</td><td>652194.6</td><td>6.1655e7</td><td>94.08</td><td>&quot;direct&quot;</td><td>&quot;&quot;</td></tr><tr><td>&quot;LTC&quot;</td><td>1710460800</td><td>95.35</td><td>83.39</td><td>94.08</td><td>662882.37</td><td>5.8638e7</td><td>89.76</td><td>&quot;direct&quot;</td><td>&quot;&quot;</td></tr><tr><td>&quot;LTC&quot;</td><td>1710547200</td><td>90.71</td><td>82.26</td><td>89.76</td><td>427439.26</td><td>3.7080e7</td><td>84.07</td><td>&quot;direct&quot;</td><td>&quot;&quot;</td></tr><tr><td>&quot;LTC&quot;</td><td>1710633600</td><td>86.64</td><td>80.67</td><td>84.07</td><td>262038.1</td><td>2.2208e7</td><td>86.13</td><td>&quot;direct&quot;</td><td>&quot;&quot;</td></tr></tbody></table></div>"
      ],
      "text/plain": [
       "shape: (1_098, 10)\n",
       "┌────────┬────────────┬──────────┬──────────┬───┬──────────┬──────────┬────────────┬───────────────┐\n",
       "│ symbol ┆ time       ┆ high     ┆ low      ┆ … ┆ volumeto ┆ close    ┆ conversion ┆ conversionSym │\n",
       "│ ---    ┆ ---        ┆ ---      ┆ ---      ┆   ┆ ---      ┆ ---      ┆ Type       ┆ bol           │\n",
       "│ str    ┆ i64        ┆ f64      ┆ f64      ┆   ┆ f64      ┆ f64      ┆ ---        ┆ ---           │\n",
       "│        ┆            ┆          ┆          ┆   ┆          ┆          ┆ str        ┆ str           │\n",
       "╞════════╪════════════╪══════════╪══════════╪═══╪══════════╪══════════╪════════════╪═══════════════╡\n",
       "│ BTC    ┆ 1679097600 ┆ 27749.91 ┆ 26655.22 ┆ … ┆ 1.3355e9 ┆ 26973.46 ┆ direct     ┆               │\n",
       "│ BTC    ┆ 1679184000 ┆ 28441.41 ┆ 26901.66 ┆ … ┆ 1.3379e9 ┆ 28040.29 ┆ direct     ┆               │\n",
       "│ BTC    ┆ 1679270400 ┆ 28539.63 ┆ 27228.03 ┆ … ┆ 1.8387e9 ┆ 27807.05 ┆ direct     ┆               │\n",
       "│ BTC    ┆ 1679356800 ┆ 28494.87 ┆ 27416.8  ┆ … ┆ 1.2822e9 ┆ 28188.11 ┆ direct     ┆               │\n",
       "│ …      ┆ …          ┆ …        ┆ …        ┆ … ┆ …        ┆ …        ┆ …          ┆ …             │\n",
       "│ LTC    ┆ 1710374400 ┆ 98.19    ┆ 89.56    ┆ … ┆ 6.1655e7 ┆ 94.08    ┆ direct     ┆               │\n",
       "│ LTC    ┆ 1710460800 ┆ 95.35    ┆ 83.39    ┆ … ┆ 5.8638e7 ┆ 89.76    ┆ direct     ┆               │\n",
       "│ LTC    ┆ 1710547200 ┆ 90.71    ┆ 82.26    ┆ … ┆ 3.7080e7 ┆ 84.07    ┆ direct     ┆               │\n",
       "│ LTC    ┆ 1710633600 ┆ 86.64    ┆ 80.67    ┆ … ┆ 2.2208e7 ┆ 86.13    ┆ direct     ┆               │\n",
       "└────────┴────────────┴──────────┴──────────┴───┴──────────┴──────────┴────────────┴───────────────┘"
      ]
     },
     "execution_count": 30,
     "metadata": {},
     "output_type": "execute_result"
    }
   ],
   "source": [
    "df_final"
   ]
  },
  {
   "cell_type": "code",
   "execution_count": null,
   "id": "4bd6e4ee-1111-473f-abc3-b13a0e148da9",
   "metadata": {},
   "outputs": [],
   "source": []
  }
 ],
 "metadata": {
  "kernelspec": {
   "display_name": "Python [conda env:data_science]",
   "language": "python",
   "name": "conda-env-data_science-py"
  },
  "language_info": {
   "codemirror_mode": {
    "name": "ipython",
    "version": 3
   },
   "file_extension": ".py",
   "mimetype": "text/x-python",
   "name": "python",
   "nbconvert_exporter": "python",
   "pygments_lexer": "ipython3",
   "version": "3.9.12"
  }
 },
 "nbformat": 4,
 "nbformat_minor": 5
}
