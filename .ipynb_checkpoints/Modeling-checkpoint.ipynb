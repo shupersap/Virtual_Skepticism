{
 "cells": [
  {
   "cell_type": "code",
   "execution_count": 1,
   "id": "693f1d2d-7805-4850-aec3-ffef6b4e9985",
   "metadata": {
    "tags": []
   },
   "outputs": [],
   "source": [
    "import polars as pl\n",
    "from matplotlib import pyplot\n",
    "import numpy as np\n",
    "from arch import arch_model\n",
    "from statsmodels.graphics.tsaplots import plot_acf, plot_pacf"
   ]
  },
  {
   "cell_type": "code",
   "execution_count": 2,
   "id": "cbec979b-74df-4a69-9317-ae301881065e",
   "metadata": {
    "tags": []
   },
   "outputs": [],
   "source": [
    "cleaned=pl.read_parquet(\"collated_crypto.parquet\")"
   ]
  },
  {
   "cell_type": "code",
   "execution_count": 3,
   "id": "af50485f-916d-419d-8d22-3606e994ba34",
   "metadata": {},
   "outputs": [
    {
     "data": {
      "text/html": [
       "<div><style>\n",
       ".dataframe > thead > tr,\n",
       ".dataframe > tbody > tr {\n",
       "  text-align: right;\n",
       "  white-space: pre-wrap;\n",
       "}\n",
       "</style>\n",
       "<small>shape: (1_098, 6)</small><table border=\"1\" class=\"dataframe\"><thead><tr><th>symbol</th><th>time</th><th>high</th><th>low</th><th>open</th><th>close</th></tr><tr><td>str</td><td>datetime[μs]</td><td>f64</td><td>f64</td><td>f64</td><td>f64</td></tr></thead><tbody><tr><td>&quot;BTC&quot;</td><td>2023-03-21 00:00:00</td><td>28494.87</td><td>27416.8</td><td>27807.05</td><td>28188.11</td></tr><tr><td>&quot;BTC&quot;</td><td>2023-03-22 00:00:00</td><td>28902.98</td><td>26676.69</td><td>28188.11</td><td>27316.18</td></tr><tr><td>&quot;BTC&quot;</td><td>2023-03-23 00:00:00</td><td>28807.82</td><td>27190.13</td><td>27316.18</td><td>28345.7</td></tr><tr><td>&quot;BTC&quot;</td><td>2023-03-24 00:00:00</td><td>28421.94</td><td>27054.76</td><td>28345.7</td><td>27493.01</td></tr><tr><td>&quot;BTC&quot;</td><td>2023-03-25 00:00:00</td><td>27819.55</td><td>27186.95</td><td>27493.01</td><td>27492.83</td></tr><tr><td>&hellip;</td><td>&hellip;</td><td>&hellip;</td><td>&hellip;</td><td>&hellip;</td><td>&hellip;</td></tr><tr><td>&quot;LTC&quot;</td><td>2024-03-16 00:00:00</td><td>90.71</td><td>82.26</td><td>89.76</td><td>84.07</td></tr><tr><td>&quot;LTC&quot;</td><td>2024-03-17 00:00:00</td><td>86.74</td><td>80.67</td><td>84.07</td><td>85.85</td></tr><tr><td>&quot;LTC&quot;</td><td>2024-03-18 00:00:00</td><td>88.06</td><td>80.77</td><td>85.85</td><td>86.78</td></tr><tr><td>&quot;LTC&quot;</td><td>2024-03-19 00:00:00</td><td>87.8</td><td>77.1</td><td>86.78</td><td>78.46</td></tr><tr><td>&quot;LTC&quot;</td><td>2024-03-20 00:00:00</td><td>85.36</td><td>76.98</td><td>78.46</td><td>84.95</td></tr></tbody></table></div>"
      ],
      "text/plain": [
       "shape: (1_098, 6)\n",
       "┌────────┬─────────────────────┬──────────┬──────────┬──────────┬──────────┐\n",
       "│ symbol ┆ time                ┆ high     ┆ low      ┆ open     ┆ close    │\n",
       "│ ---    ┆ ---                 ┆ ---      ┆ ---      ┆ ---      ┆ ---      │\n",
       "│ str    ┆ datetime[μs]        ┆ f64      ┆ f64      ┆ f64      ┆ f64      │\n",
       "╞════════╪═════════════════════╪══════════╪══════════╪══════════╪══════════╡\n",
       "│ BTC    ┆ 2023-03-21 00:00:00 ┆ 28494.87 ┆ 27416.8  ┆ 27807.05 ┆ 28188.11 │\n",
       "│ BTC    ┆ 2023-03-22 00:00:00 ┆ 28902.98 ┆ 26676.69 ┆ 28188.11 ┆ 27316.18 │\n",
       "│ BTC    ┆ 2023-03-23 00:00:00 ┆ 28807.82 ┆ 27190.13 ┆ 27316.18 ┆ 28345.7  │\n",
       "│ BTC    ┆ 2023-03-24 00:00:00 ┆ 28421.94 ┆ 27054.76 ┆ 28345.7  ┆ 27493.01 │\n",
       "│ BTC    ┆ 2023-03-25 00:00:00 ┆ 27819.55 ┆ 27186.95 ┆ 27493.01 ┆ 27492.83 │\n",
       "│ …      ┆ …                   ┆ …        ┆ …        ┆ …        ┆ …        │\n",
       "│ LTC    ┆ 2024-03-16 00:00:00 ┆ 90.71    ┆ 82.26    ┆ 89.76    ┆ 84.07    │\n",
       "│ LTC    ┆ 2024-03-17 00:00:00 ┆ 86.74    ┆ 80.67    ┆ 84.07    ┆ 85.85    │\n",
       "│ LTC    ┆ 2024-03-18 00:00:00 ┆ 88.06    ┆ 80.77    ┆ 85.85    ┆ 86.78    │\n",
       "│ LTC    ┆ 2024-03-19 00:00:00 ┆ 87.8     ┆ 77.1     ┆ 86.78    ┆ 78.46    │\n",
       "│ LTC    ┆ 2024-03-20 00:00:00 ┆ 85.36    ┆ 76.98    ┆ 78.46    ┆ 84.95    │\n",
       "└────────┴─────────────────────┴──────────┴──────────┴──────────┴──────────┘"
      ]
     },
     "execution_count": 3,
     "metadata": {},
     "output_type": "execute_result"
    }
   ],
   "source": [
    "cleaned"
   ]
  },
  {
   "cell_type": "code",
   "execution_count": 4,
   "id": "ef5c99c0-06a1-4dee-93b4-860459c4c44e",
   "metadata": {},
   "outputs": [],
   "source": [
    "new = cleaned.filter(cleaned[\"symbol\"] == \"LTC\")"
   ]
  },
  {
   "cell_type": "code",
   "execution_count": 5,
   "id": "1efc7705-5f1f-4a97-89ca-5106e693939c",
   "metadata": {},
   "outputs": [],
   "source": [
    "x_value=new[\"time\"]\n",
    "y_value=new[\"close\"]"
   ]
  },
  {
   "cell_type": "code",
   "execution_count": 6,
   "id": "5f0ee66b-c189-403c-8c89-e727195bd1e1",
   "metadata": {},
   "outputs": [
    {
     "data": {
      "image/png": "[encoded data removed]",
      "text/plain": [
       "<Figure size 432x288 with 1 Axes>"
      ]
     },
     "metadata": {
      "needs_background": "light"
     },
     "output_type": "display_data"
    }
   ],
   "source": [
    "plot=pyplot.plot(x_value,y_value)"
   ]
  },
  {
   "cell_type": "code",
   "execution_count": 7,
   "id": "4132e9c8-ce8b-4637-93e7-b0f7c6f1af7d",
   "metadata": {},
   "outputs": [],
   "source": [
    "returns = np.log(y_value / y_value.shift(1))\n",
    "returns = returns.replace(None, 0)"
   ]
  },
  {
   "cell_type": "code",
   "execution_count": 21,
   "id": "6ad6262a-df2d-427e-8b00-78949296de56",
   "metadata": {},
   "outputs": [],
   "source": [
    " new=new.with_columns(returns=returns)"
   ]
  },
  {
   "cell_type": "code",
   "execution_count": 22,
   "id": "76735b09-f26e-4878-923e-b61410d702e6",
   "metadata": {},
   "outputs": [
    {
     "data": {
      "text/html": [
       "<div><style>\n",
       ".dataframe > thead > tr,\n",
       ".dataframe > tbody > tr {\n",
       "  text-align: right;\n",
       "  white-space: pre-wrap;\n",
       "}\n",
       "</style>\n",
       "<small>shape: (366, 7)</small><table border=\"1\" class=\"dataframe\"><thead><tr><th>symbol</th><th>time</th><th>high</th><th>low</th><th>open</th><th>close</th><th>returns</th></tr><tr><td>str</td><td>datetime[μs]</td><td>f64</td><td>f64</td><td>f64</td><td>f64</td><td>f64</td></tr></thead><tbody><tr><td>&quot;LTC&quot;</td><td>2023-03-21 00:00:00</td><td>83.63</td><td>77.04</td><td>78.23</td><td>82.75</td><td>0.0</td></tr><tr><td>&quot;LTC&quot;</td><td>2023-03-22 00:00:00</td><td>88.43</td><td>79.48</td><td>82.75</td><td>87.43</td><td>0.055014</td></tr><tr><td>&quot;LTC&quot;</td><td>2023-03-23 00:00:00</td><td>94.7</td><td>85.8</td><td>87.43</td><td>93.85</td><td>0.070859</td></tr><tr><td>&quot;LTC&quot;</td><td>2023-03-24 00:00:00</td><td>96.02</td><td>89.25</td><td>93.85</td><td>93.78</td><td>-0.000746</td></tr><tr><td>&quot;LTC&quot;</td><td>2023-03-25 00:00:00</td><td>94.14</td><td>90.14</td><td>93.78</td><td>91.55</td><td>-0.024066</td></tr><tr><td>&hellip;</td><td>&hellip;</td><td>&hellip;</td><td>&hellip;</td><td>&hellip;</td><td>&hellip;</td><td>&hellip;</td></tr><tr><td>&quot;LTC&quot;</td><td>2024-03-16 00:00:00</td><td>90.71</td><td>82.26</td><td>89.76</td><td>84.07</td><td>-0.06549</td></tr><tr><td>&quot;LTC&quot;</td><td>2024-03-17 00:00:00</td><td>86.74</td><td>80.67</td><td>84.07</td><td>85.85</td><td>0.020952</td></tr><tr><td>&quot;LTC&quot;</td><td>2024-03-18 00:00:00</td><td>88.06</td><td>80.77</td><td>85.85</td><td>86.78</td><td>0.010775</td></tr><tr><td>&quot;LTC&quot;</td><td>2024-03-19 00:00:00</td><td>87.8</td><td>77.1</td><td>86.78</td><td>78.46</td><td>-0.100787</td></tr><tr><td>&quot;LTC&quot;</td><td>2024-03-20 00:00:00</td><td>85.36</td><td>76.98</td><td>78.46</td><td>84.95</td><td>0.079474</td></tr></tbody></table></div>"
      ],
      "text/plain": [
       "shape: (366, 7)\n",
       "┌────────┬─────────────────────┬───────┬───────┬───────┬───────┬───────────┐\n",
       "│ symbol ┆ time                ┆ high  ┆ low   ┆ open  ┆ close ┆ returns   │\n",
       "│ ---    ┆ ---                 ┆ ---   ┆ ---   ┆ ---   ┆ ---   ┆ ---       │\n",
       "│ str    ┆ datetime[μs]        ┆ f64   ┆ f64   ┆ f64   ┆ f64   ┆ f64       │\n",
       "╞════════╪═════════════════════╪═══════╪═══════╪═══════╪═══════╪═══════════╡\n",
       "│ LTC    ┆ 2023-03-21 00:00:00 ┆ 83.63 ┆ 77.04 ┆ 78.23 ┆ 82.75 ┆ 0.0       │\n",
       "│ LTC    ┆ 2023-03-22 00:00:00 ┆ 88.43 ┆ 79.48 ┆ 82.75 ┆ 87.43 ┆ 0.055014  │\n",
       "│ LTC    ┆ 2023-03-23 00:00:00 ┆ 94.7  ┆ 85.8  ┆ 87.43 ┆ 93.85 ┆ 0.070859  │\n",
       "│ LTC    ┆ 2023-03-24 00:00:00 ┆ 96.02 ┆ 89.25 ┆ 93.85 ┆ 93.78 ┆ -0.000746 │\n",
       "│ LTC    ┆ 2023-03-25 00:00:00 ┆ 94.14 ┆ 90.14 ┆ 93.78 ┆ 91.55 ┆ -0.024066 │\n",
       "│ …      ┆ …                   ┆ …     ┆ …     ┆ …     ┆ …     ┆ …         │\n",
       "│ LTC    ┆ 2024-03-16 00:00:00 ┆ 90.71 ┆ 82.26 ┆ 89.76 ┆ 84.07 ┆ -0.06549  │\n",
       "│ LTC    ┆ 2024-03-17 00:00:00 ┆ 86.74 ┆ 80.67 ┆ 84.07 ┆ 85.85 ┆ 0.020952  │\n",
       "│ LTC    ┆ 2024-03-18 00:00:00 ┆ 88.06 ┆ 80.77 ┆ 85.85 ┆ 86.78 ┆ 0.010775  │\n",
       "│ LTC    ┆ 2024-03-19 00:00:00 ┆ 87.8  ┆ 77.1  ┆ 86.78 ┆ 78.46 ┆ -0.100787 │\n",
       "│ LTC    ┆ 2024-03-20 00:00:00 ┆ 85.36 ┆ 76.98 ┆ 78.46 ┆ 84.95 ┆ 0.079474  │\n",
       "└────────┴─────────────────────┴───────┴───────┴───────┴───────┴───────────┘"
      ]
     },
     "execution_count": 22,
     "metadata": {},
     "output_type": "execute_result"
    }
   ],
   "source": [
    "new"
   ]
  },
  {
   "cell_type": "code",
   "execution_count": null,
   "id": "f63e8ace-4109-4c10-9f8c-ce123e4d7ced",
   "metadata": {},
   "outputs": [],
   "source": []
  }
 ],
 "metadata": {
  "kernelspec": {
   "display_name": "Python [conda env:data_science]",
   "language": "python",
   "name": "conda-env-data_science-py"
  },
  "language_info": {
   "codemirror_mode": {
    "name": "ipython",
    "version": 3
   },
   "file_extension": ".py",
   "mimetype": "text/x-python",
   "name": "python",
   "nbconvert_exporter": "python",
   "pygments_lexer": "ipython3",
   "version": "3.9.12"
  }
 },
 "nbformat": 4,
 "nbformat_minor": 5
}
