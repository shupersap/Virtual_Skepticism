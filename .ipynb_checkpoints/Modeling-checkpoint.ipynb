{
 "cells": [
  {
   "cell_type": "code",
   "execution_count": 1,
   "id": "693f1d2d-7805-4850-aec3-ffef6b4e9985",
   "metadata": {
    "tags": []
   },
   "outputs": [],
   "source": [
    "import pandas as pd\n",
    "from matplotlib import pyplot\n",
    "import numpy as np\n",
    "from arch import arch_model\n",
    "from statsmodels.graphics.tsaplots import plot_acf, plot_pacf"
   ]
  },
  {
   "cell_type": "code",
   "execution_count": 2,
   "id": "cbec979b-74df-4a69-9317-ae301881065e",
   "metadata": {
    "tags": []
   },
   "outputs": [],
   "source": [
    "cleaned=pd.read_parquet(\"collated_crypto.parquet\")"
   ]
  },
  {
   "cell_type": "code",
   "execution_count": 3,
   "id": "af50485f-916d-419d-8d22-3606e994ba34",
   "metadata": {},
   "outputs": [
    {
     "data": {
      "text/html": [
       "<div>\n",
       "<style scoped>\n",
       "    .dataframe tbody tr th:only-of-type {\n",
       "        vertical-align: middle;\n",
       "    }\n",
       "\n",
       "    .dataframe tbody tr th {\n",
       "        vertical-align: top;\n",
       "    }\n",
       "\n",
       "    .dataframe thead th {\n",
       "        text-align: right;\n",
       "    }\n",
       "</style>\n",
       "<table border=\"1\" class=\"dataframe\">\n",
       "  <thead>\n",
       "    <tr style=\"text-align: right;\">\n",
       "      <th></th>\n",
       "      <th>symbol</th>\n",
       "      <th>time</th>\n",
       "      <th>high</th>\n",
       "      <th>low</th>\n",
       "      <th>open</th>\n",
       "      <th>close</th>\n",
       "    </tr>\n",
       "  </thead>\n",
       "  <tbody>\n",
       "    <tr>\n",
       "      <th>0</th>\n",
       "      <td>BTC</td>\n",
       "      <td>2023-04-17</td>\n",
       "      <td>30331.32</td>\n",
       "      <td>29265.91</td>\n",
       "      <td>30322.37</td>\n",
       "      <td>29446.34</td>\n",
       "    </tr>\n",
       "    <tr>\n",
       "      <th>1</th>\n",
       "      <td>BTC</td>\n",
       "      <td>2023-04-18</td>\n",
       "      <td>30485.26</td>\n",
       "      <td>29135.27</td>\n",
       "      <td>29446.34</td>\n",
       "      <td>30395.53</td>\n",
       "    </tr>\n",
       "    <tr>\n",
       "      <th>2</th>\n",
       "      <td>BTC</td>\n",
       "      <td>2023-04-19</td>\n",
       "      <td>30419.74</td>\n",
       "      <td>28615.79</td>\n",
       "      <td>30395.53</td>\n",
       "      <td>28821.91</td>\n",
       "    </tr>\n",
       "    <tr>\n",
       "      <th>3</th>\n",
       "      <td>BTC</td>\n",
       "      <td>2023-04-20</td>\n",
       "      <td>29094.98</td>\n",
       "      <td>28007.09</td>\n",
       "      <td>28821.91</td>\n",
       "      <td>28248.11</td>\n",
       "    </tr>\n",
       "    <tr>\n",
       "      <th>4</th>\n",
       "      <td>BTC</td>\n",
       "      <td>2023-04-21</td>\n",
       "      <td>28365.20</td>\n",
       "      <td>27173.44</td>\n",
       "      <td>28248.11</td>\n",
       "      <td>27261.17</td>\n",
       "    </tr>\n",
       "    <tr>\n",
       "      <th>...</th>\n",
       "      <td>...</td>\n",
       "      <td>...</td>\n",
       "      <td>...</td>\n",
       "      <td>...</td>\n",
       "      <td>...</td>\n",
       "      <td>...</td>\n",
       "    </tr>\n",
       "    <tr>\n",
       "      <th>1093</th>\n",
       "      <td>LTC</td>\n",
       "      <td>2024-04-12</td>\n",
       "      <td>99.51</td>\n",
       "      <td>80.31</td>\n",
       "      <td>98.75</td>\n",
       "      <td>86.16</td>\n",
       "    </tr>\n",
       "    <tr>\n",
       "      <th>1094</th>\n",
       "      <td>LTC</td>\n",
       "      <td>2024-04-13</td>\n",
       "      <td>86.60</td>\n",
       "      <td>70.87</td>\n",
       "      <td>86.16</td>\n",
       "      <td>77.50</td>\n",
       "    </tr>\n",
       "    <tr>\n",
       "      <th>1095</th>\n",
       "      <td>LTC</td>\n",
       "      <td>2024-04-14</td>\n",
       "      <td>80.44</td>\n",
       "      <td>73.93</td>\n",
       "      <td>77.50</td>\n",
       "      <td>79.82</td>\n",
       "    </tr>\n",
       "    <tr>\n",
       "      <th>1096</th>\n",
       "      <td>LTC</td>\n",
       "      <td>2024-04-15</td>\n",
       "      <td>82.87</td>\n",
       "      <td>75.70</td>\n",
       "      <td>79.82</td>\n",
       "      <td>78.11</td>\n",
       "    </tr>\n",
       "    <tr>\n",
       "      <th>1097</th>\n",
       "      <td>LTC</td>\n",
       "      <td>2024-04-16</td>\n",
       "      <td>78.27</td>\n",
       "      <td>77.30</td>\n",
       "      <td>78.11</td>\n",
       "      <td>77.35</td>\n",
       "    </tr>\n",
       "  </tbody>\n",
       "</table>\n",
       "<p>1098 rows × 6 columns</p>\n",
       "</div>"
      ],
      "text/plain": [
       "     symbol       time      high       low      open     close\n",
       "0       BTC 2023-04-17  30331.32  29265.91  30322.37  29446.34\n",
       "1       BTC 2023-04-18  30485.26  29135.27  29446.34  30395.53\n",
       "2       BTC 2023-04-19  30419.74  28615.79  30395.53  28821.91\n",
       "3       BTC 2023-04-20  29094.98  28007.09  28821.91  28248.11\n",
       "4       BTC 2023-04-21  28365.20  27173.44  28248.11  27261.17\n",
       "...     ...        ...       ...       ...       ...       ...\n",
       "1093    LTC 2024-04-12     99.51     80.31     98.75     86.16\n",
       "1094    LTC 2024-04-13     86.60     70.87     86.16     77.50\n",
       "1095    LTC 2024-04-14     80.44     73.93     77.50     79.82\n",
       "1096    LTC 2024-04-15     82.87     75.70     79.82     78.11\n",
       "1097    LTC 2024-04-16     78.27     77.30     78.11     77.35\n",
       "\n",
       "[1098 rows x 6 columns]"
      ]
     },
     "execution_count": 3,
     "metadata": {},
     "output_type": "execute_result"
    }
   ],
   "source": [
    "cleaned"
   ]
  },
  {
   "cell_type": "code",
   "execution_count": 4,
   "id": "ef5c99c0-06a1-4dee-93b4-860459c4c44e",
   "metadata": {},
   "outputs": [],
   "source": [
    "new = cleaned[cleaned[\"symbol\"] == \"BTC\"]"
   ]
  },
  {
   "cell_type": "code",
   "execution_count": 5,
   "id": "1efc7705-5f1f-4a97-89ca-5106e693939c",
   "metadata": {},
   "outputs": [],
   "source": [
    "x_value=new[\"time\"]\n",
    "y_value=new[\"close\"]"
   ]
  },
  {
   "cell_type": "code",
   "execution_count": 6,
   "id": "5f0ee66b-c189-403c-8c89-e727195bd1e1",
   "metadata": {},
   "outputs": [
    {
     "data": {
      "image/png": "[encoded data removed]",
      "text/plain": [
       "<Figure size 432x288 with 1 Axes>"
      ]
     },
     "metadata": {
      "needs_background": "light"
     },
     "output_type": "display_data"
    }
   ],
   "source": [
    "plot=pyplot.plot(x_value,y_value)"
   ]
  },
  {
   "cell_type": "code",
   "execution_count": 7,
   "id": "4132e9c8-ce8b-4637-93e7-b0f7c6f1af7d",
   "metadata": {},
   "outputs": [],
   "source": [
    "returns = np.log(y_value / y_value.shift(1))\n",
    "returns = returns.fillna(0)"
   ]
  },
  {
   "cell_type": "code",
   "execution_count": 8,
   "id": "6ad6262a-df2d-427e-8b00-78949296de56",
   "metadata": {},
   "outputs": [
    {
     "name": "stderr",
     "output_type": "stream",
     "text": [
      "C:\\Users\\shupe\\AppData\\Local\\Temp\\ipykernel_7996\\2739929621.py:1: SettingWithCopyWarning: \n",
      "A value is trying to be set on a copy of a slice from a DataFrame.\n",
      "Try using .loc[row_indexer,col_indexer] = value instead\n",
      "\n",
      "See the caveats in the documentation: https://pandas.pydata.org/pandas-docs/stable/user_guide/indexing.html#returning-a-view-versus-a-copy\n",
      "  new[\"returns\"]=returns\n"
     ]
    }
   ],
   "source": [
    "new[\"returns\"]=returns"
   ]
  },
  {
   "cell_type": "code",
   "execution_count": 39,
   "id": "ee3d9969-3a9d-4788-a30a-bb49d371e29f",
   "metadata": {},
   "outputs": [],
   "source": [
    "new[\"main_volatility\"]=new[\"returns\"].rolling(window=365,min_periods=1).std()*np.sqrt(365)"
   ]
  },
  {
   "cell_type": "code",
   "execution_count": 40,
   "id": "a5ee741a-fd0b-48e2-9fed-47ce978ee7a6",
   "metadata": {},
   "outputs": [],
   "source": [
    "new[\"ewm_volatility\"] = new[\"returns\"].ewm(span=365).std()*np.sqrt(365)"
   ]
  },
  {
   "cell_type": "code",
   "execution_count": 41,
   "id": "1a1bca09-12e4-4ac3-955c-38073ba36c55",
   "metadata": {},
   "outputs": [],
   "source": [
    "new=new.fillna(0)"
   ]
  },
  {
   "cell_type": "code",
   "execution_count": 42,
   "id": "f0d858a1-5ebf-48dc-a73c-9caccb34fc9c",
   "metadata": {},
   "outputs": [
    {
     "data": {
      "image/png": "[encoded data removed]",
      "text/plain": [
       "<Figure size 432x288 with 1 Axes>"
      ]
     },
     "metadata": {
      "needs_background": "light"
     },
     "output_type": "display_data"
    }
   ],
   "source": [
    "plot=pyplot.plot(x_value,new[\"ewm_volatility\"])"
   ]
  },
  {
   "cell_type": "code",
   "execution_count": 43,
   "id": "03da378f-80b1-4aaa-9d13-7421f8e08e9c",
   "metadata": {},
   "outputs": [
    {
     "data": {
      "image/png": "[encoded data removed]",
      "text/plain": [
       "<Figure size 432x288 with 1 Axes>"
      ]
     },
     "metadata": {
      "needs_background": "light"
     },
     "output_type": "display_data"
    }
   ],
   "source": [
    "plot=pyplot.plot(x_value,new[\"main_volatility\"])"
   ]
  },
  {
   "cell_type": "code",
   "execution_count": 44,
   "id": "ce399e76-e2b0-42f4-96a8-b93bab274013",
   "metadata": {},
   "outputs": [
    {
     "data": {
      "text/html": [
       "<div>\n",
       "<style scoped>\n",
       "    .dataframe tbody tr th:only-of-type {\n",
       "        vertical-align: middle;\n",
       "    }\n",
       "\n",
       "    .dataframe tbody tr th {\n",
       "        vertical-align: top;\n",
       "    }\n",
       "\n",
       "    .dataframe thead th {\n",
       "        text-align: right;\n",
       "    }\n",
       "</style>\n",
       "<table border=\"1\" class=\"dataframe\">\n",
       "  <thead>\n",
       "    <tr style=\"text-align: right;\">\n",
       "      <th></th>\n",
       "      <th>symbol</th>\n",
       "      <th>time</th>\n",
       "      <th>high</th>\n",
       "      <th>low</th>\n",
       "      <th>open</th>\n",
       "      <th>close</th>\n",
       "      <th>returns</th>\n",
       "      <th>main_volatility</th>\n",
       "      <th>ewm_volatility</th>\n",
       "    </tr>\n",
       "  </thead>\n",
       "  <tbody>\n",
       "    <tr>\n",
       "      <th>0</th>\n",
       "      <td>BTC</td>\n",
       "      <td>2023-04-17</td>\n",
       "      <td>30331.32</td>\n",
       "      <td>29265.91</td>\n",
       "      <td>30322.37</td>\n",
       "      <td>29446.34</td>\n",
       "      <td>0.000000</td>\n",
       "      <td>0.000000</td>\n",
       "      <td>0.000000</td>\n",
       "    </tr>\n",
       "    <tr>\n",
       "      <th>1</th>\n",
       "      <td>BTC</td>\n",
       "      <td>2023-04-18</td>\n",
       "      <td>30485.26</td>\n",
       "      <td>29135.27</td>\n",
       "      <td>29446.34</td>\n",
       "      <td>30395.53</td>\n",
       "      <td>0.031726</td>\n",
       "      <td>0.428594</td>\n",
       "      <td>0.428594</td>\n",
       "    </tr>\n",
       "    <tr>\n",
       "      <th>2</th>\n",
       "      <td>BTC</td>\n",
       "      <td>2023-04-19</td>\n",
       "      <td>30419.74</td>\n",
       "      <td>28615.79</td>\n",
       "      <td>30395.53</td>\n",
       "      <td>28821.91</td>\n",
       "      <td>-0.053160</td>\n",
       "      <td>0.819440</td>\n",
       "      <td>0.820700</td>\n",
       "    </tr>\n",
       "    <tr>\n",
       "      <th>3</th>\n",
       "      <td>BTC</td>\n",
       "      <td>2023-04-20</td>\n",
       "      <td>29094.98</td>\n",
       "      <td>28007.09</td>\n",
       "      <td>28821.91</td>\n",
       "      <td>28248.11</td>\n",
       "      <td>-0.020109</td>\n",
       "      <td>0.680435</td>\n",
       "      <td>0.680435</td>\n",
       "    </tr>\n",
       "    <tr>\n",
       "      <th>4</th>\n",
       "      <td>BTC</td>\n",
       "      <td>2023-04-21</td>\n",
       "      <td>28365.20</td>\n",
       "      <td>27173.44</td>\n",
       "      <td>28248.11</td>\n",
       "      <td>27261.17</td>\n",
       "      <td>-0.035563</td>\n",
       "      <td>0.627311</td>\n",
       "      <td>0.626561</td>\n",
       "    </tr>\n",
       "    <tr>\n",
       "      <th>...</th>\n",
       "      <td>...</td>\n",
       "      <td>...</td>\n",
       "      <td>...</td>\n",
       "      <td>...</td>\n",
       "      <td>...</td>\n",
       "      <td>...</td>\n",
       "      <td>...</td>\n",
       "      <td>...</td>\n",
       "      <td>...</td>\n",
       "    </tr>\n",
       "    <tr>\n",
       "      <th>361</th>\n",
       "      <td>BTC</td>\n",
       "      <td>2024-04-12</td>\n",
       "      <td>71246.69</td>\n",
       "      <td>65257.57</td>\n",
       "      <td>70026.43</td>\n",
       "      <td>67158.30</td>\n",
       "      <td>-0.041820</td>\n",
       "      <td>0.462919</td>\n",
       "      <td>0.517104</td>\n",
       "    </tr>\n",
       "    <tr>\n",
       "      <th>362</th>\n",
       "      <td>BTC</td>\n",
       "      <td>2024-04-13</td>\n",
       "      <td>68422.60</td>\n",
       "      <td>61079.47</td>\n",
       "      <td>67158.30</td>\n",
       "      <td>64021.36</td>\n",
       "      <td>-0.047836</td>\n",
       "      <td>0.465002</td>\n",
       "      <td>0.521265</td>\n",
       "    </tr>\n",
       "    <tr>\n",
       "      <th>363</th>\n",
       "      <td>BTC</td>\n",
       "      <td>2024-04-14</td>\n",
       "      <td>65874.88</td>\n",
       "      <td>62229.80</td>\n",
       "      <td>64021.36</td>\n",
       "      <td>65765.64</td>\n",
       "      <td>0.026881</td>\n",
       "      <td>0.465022</td>\n",
       "      <td>0.520882</td>\n",
       "    </tr>\n",
       "    <tr>\n",
       "      <th>364</th>\n",
       "      <td>BTC</td>\n",
       "      <td>2024-04-15</td>\n",
       "      <td>66902.94</td>\n",
       "      <td>62328.07</td>\n",
       "      <td>65765.64</td>\n",
       "      <td>63447.27</td>\n",
       "      <td>-0.035888</td>\n",
       "      <td>0.465943</td>\n",
       "      <td>0.522586</td>\n",
       "    </tr>\n",
       "    <tr>\n",
       "      <th>365</th>\n",
       "      <td>BTC</td>\n",
       "      <td>2024-04-16</td>\n",
       "      <td>63728.98</td>\n",
       "      <td>63081.16</td>\n",
       "      <td>63447.27</td>\n",
       "      <td>63086.84</td>\n",
       "      <td>-0.005697</td>\n",
       "      <td>0.466003</td>\n",
       "      <td>0.521092</td>\n",
       "    </tr>\n",
       "  </tbody>\n",
       "</table>\n",
       "<p>366 rows × 9 columns</p>\n",
       "</div>"
      ],
      "text/plain": [
       "    symbol       time      high       low      open     close   returns  \\\n",
       "0      BTC 2023-04-17  30331.32  29265.91  30322.37  29446.34  0.000000   \n",
       "1      BTC 2023-04-18  30485.26  29135.27  29446.34  30395.53  0.031726   \n",
       "2      BTC 2023-04-19  30419.74  28615.79  30395.53  28821.91 -0.053160   \n",
       "3      BTC 2023-04-20  29094.98  28007.09  28821.91  28248.11 -0.020109   \n",
       "4      BTC 2023-04-21  28365.20  27173.44  28248.11  27261.17 -0.035563   \n",
       "..     ...        ...       ...       ...       ...       ...       ...   \n",
       "361    BTC 2024-04-12  71246.69  65257.57  70026.43  67158.30 -0.041820   \n",
       "362    BTC 2024-04-13  68422.60  61079.47  67158.30  64021.36 -0.047836   \n",
       "363    BTC 2024-04-14  65874.88  62229.80  64021.36  65765.64  0.026881   \n",
       "364    BTC 2024-04-15  66902.94  62328.07  65765.64  63447.27 -0.035888   \n",
       "365    BTC 2024-04-16  63728.98  63081.16  63447.27  63086.84 -0.005697   \n",
       "\n",
       "     main_volatility  ewm_volatility  \n",
       "0           0.000000        0.000000  \n",
       "1           0.428594        0.428594  \n",
       "2           0.819440        0.820700  \n",
       "3           0.680435        0.680435  \n",
       "4           0.627311        0.626561  \n",
       "..               ...             ...  \n",
       "361         0.462919        0.517104  \n",
       "362         0.465002        0.521265  \n",
       "363         0.465022        0.520882  \n",
       "364         0.465943        0.522586  \n",
       "365         0.466003        0.521092  \n",
       "\n",
       "[366 rows x 9 columns]"
      ]
     },
     "execution_count": 44,
     "metadata": {},
     "output_type": "execute_result"
    }
   ],
   "source": [
    "new"
   ]
  },
  {
   "cell_type": "code",
   "execution_count": 80,
   "id": "96ce3082-e402-4805-99aa-6eab81938e24",
   "metadata": {},
   "outputs": [
    {
     "data": {
      "image/png": "[encoded data removed]",
      "text/plain": [
       "<Figure size 432x288 with 1 Axes>"
      ]
     },
     "metadata": {
      "needs_background": "light"
     },
     "output_type": "display_data"
    }
   ],
   "source": [
    "plot_acf(new[\"returns\"],lags=100)\n",
    "pyplot.show()"
   ]
  },
  {
   "cell_type": "code",
   "execution_count": 79,
   "id": "381dbd8c-231d-4968-9532-2630ff0d07e4",
   "metadata": {},
   "outputs": [
    {
     "name": "stderr",
     "output_type": "stream",
     "text": [
      "C:\\Users\\shupe\\anaconda3\\lib\\site-packages\\statsmodels\\graphics\\tsaplots.py:348: FutureWarning: The default method 'yw' can produce PACF values outside of the [-1,1] interval. After 0.13, the default will change tounadjusted Yule-Walker ('ywm'). You can use this method now by setting method='ywm'.\n",
      "  warnings.warn(\n"
     ]
    },
    {
     "data": {
      "image/png": "[encoded data removed]",
      "text/plain": [
       "<Figure size 432x288 with 1 Axes>"
      ]
     },
     "metadata": {
      "needs_background": "light"
     },
     "output_type": "display_data"
    }
   ],
   "source": [
    "plot_pacf(new[\"returns\"],lags=100)\n",
    "pyplot.show()"
   ]
  },
  {
   "cell_type": "code",
   "execution_count": 51,
   "id": "b5662716-70b3-4b53-bfac-25a496c18408",
   "metadata": {},
   "outputs": [],
   "source": [
    "squared_data = [x**2 for x in new[\"returns\"]]\n",
    "squared_array = np.array(squared_data)"
   ]
  },
  {
   "cell_type": "code",
   "execution_count": 89,
   "id": "e53e556e-45fa-4574-869f-a9f9da013349",
   "metadata": {},
   "outputs": [
    {
     "data": {
      "image/png": "[encoded data removed]",
      "text/plain": [
       "<Figure size 432x288 with 1 Axes>"
      ]
     },
     "metadata": {
      "needs_background": "light"
     },
     "output_type": "display_data"
    }
   ],
   "source": [
    "plot_acf(squared_array,lags=20)\n",
    "pyplot.show()"
   ]
  },
  {
   "cell_type": "code",
   "execution_count": 23,
   "id": "e483b583-b277-4848-9d7b-7d8ae4d8420f",
   "metadata": {},
   "outputs": [],
   "source": [
    "n_test=round(len(squared_array)*.10)"
   ]
  },
  {
   "cell_type": "code",
   "execution_count": 82,
   "id": "cde8e2ba-186b-4e0a-80a0-475476db540b",
   "metadata": {},
   "outputs": [],
   "source": [
    "train, test = new[\"returns\"][:-n_test], new[\"returns\"][-n_test:]"
   ]
  },
  {
   "cell_type": "code",
   "execution_count": 83,
   "id": "5a8f9ecb-8ab7-4dbc-a956-8fb49a29e876",
   "metadata": {},
   "outputs": [
    {
     "data": {
      "text/plain": [
       "0      0.000000\n",
       "1      0.031726\n",
       "2     -0.053160\n",
       "3     -0.020109\n",
       "4     -0.035563\n",
       "         ...   \n",
       "324    0.035587\n",
       "325    0.012215\n",
       "326    0.019842\n",
       "327    0.002588\n",
       "328    0.008398\n",
       "Name: returns, Length: 329, dtype: float64"
      ]
     },
     "execution_count": 83,
     "metadata": {},
     "output_type": "execute_result"
    }
   ],
   "source": [
    "train"
   ]
  },
  {
   "cell_type": "code",
   "execution_count": 84,
   "id": "9e298a12-541f-4a3b-95fc-5a42b635a7e2",
   "metadata": {},
   "outputs": [
    {
     "data": {
      "text/plain": [
       "329    0.043549\n",
       "330   -0.009006\n",
       "331    0.023085\n",
       "332   -0.024241\n",
       "333   -0.026546\n",
       "334   -0.062901\n",
       "335    0.046465\n",
       "336   -0.011105\n",
       "337   -0.087839\n",
       "338    0.091499\n",
       "339   -0.035460\n",
       "340   -0.025927\n",
       "341    0.002933\n",
       "342    0.048845\n",
       "343    0.039158\n",
       "344    0.001401\n",
       "345   -0.007972\n",
       "346    0.019328\n",
       "347   -0.012593\n",
       "348   -0.003924\n",
       "349    0.023882\n",
       "350   -0.023073\n",
       "351   -0.062461\n",
       "352    0.007901\n",
       "353    0.037737\n",
       "354   -0.009726\n",
       "355    0.015402\n",
       "356    0.006415\n",
       "357    0.032233\n",
       "358   -0.035524\n",
       "359    0.021453\n",
       "360   -0.008562\n",
       "361   -0.041820\n",
       "362   -0.047836\n",
       "363    0.026881\n",
       "364   -0.035888\n",
       "365   -0.005697\n",
       "Name: returns, dtype: float64"
      ]
     },
     "execution_count": 84,
     "metadata": {},
     "output_type": "execute_result"
    }
   ],
   "source": [
    "test"
   ]
  },
  {
   "cell_type": "code",
   "execution_count": 133,
   "id": "7c8215f2-5696-49af-b4fd-7fd9090e2d6f",
   "metadata": {},
   "outputs": [],
   "source": [
    "model = arch_model(train, vol='ARCH', p=7,q=0)"
   ]
  },
  {
   "cell_type": "code",
   "execution_count": 134,
   "id": "8a2ef243-ced3-45c9-9670-e77a8b0528e0",
   "metadata": {},
   "outputs": [
    {
     "name": "stdout",
     "output_type": "stream",
     "text": [
      "Iteration:      1,   Func. Count:     11,   Neg. LLF: 11565085.045950316\n",
      "Iteration:      2,   Func. Count:     27,   Neg. LLF: -537.8853816401677\n",
      "Iteration:      3,   Func. Count:     40,   Neg. LLF: 694.8875910184382\n",
      "Iteration:      4,   Func. Count:     51,   Neg. LLF: 1201.3876487327243\n",
      "Iteration:      5,   Func. Count:     62,   Neg. LLF: -702.3163397649625\n",
      "Iteration:      6,   Func. Count:     74,   Neg. LLF: 8911.60175768437\n",
      "Iteration:      7,   Func. Count:     85,   Neg. LLF: -755.3213274615108\n",
      "Iteration:      8,   Func. Count:     96,   Neg. LLF: -793.8010189185054\n",
      "Iteration:      9,   Func. Count:    106,   Neg. LLF: -774.407770256101\n",
      "Iteration:     10,   Func. Count:    118,   Neg. LLF: -776.2148193748851\n",
      "Iteration:     11,   Func. Count:    130,   Neg. LLF: -793.4046598256919\n",
      "Iteration:     12,   Func. Count:    141,   Neg. LLF: -760.2053252533567\n",
      "Iteration:     13,   Func. Count:    153,   Neg. LLF: -794.2144757176959\n",
      "Iteration:     14,   Func. Count:    163,   Neg. LLF: -794.2193684362958\n",
      "Iteration:     15,   Func. Count:    173,   Neg. LLF: -794.220535793881\n",
      "Iteration:     16,   Func. Count:    183,   Neg. LLF: -794.2217559085154\n",
      "Iteration:     17,   Func. Count:    193,   Neg. LLF: -794.2217660313358\n",
      "Iteration:     18,   Func. Count:    203,   Neg. LLF: -794.2217670818383\n",
      "Iteration:     19,   Func. Count:    213,   Neg. LLF: -518.6183804978509\n",
      "Optimization terminated successfully    (Exit mode 0)\n",
      "            Current function value: -794.2217671112985\n",
      "            Iterations: 20\n",
      "            Function evaluations: 219\n",
      "            Gradient evaluations: 19\n"
     ]
    },
    {
     "name": "stderr",
     "output_type": "stream",
     "text": [
      "C:\\Users\\shupe\\anaconda3\\lib\\site-packages\\arch\\univariate\\base.py:311: DataScaleWarning: y is poorly scaled, which may affect convergence of the optimizer when\n",
      "estimating the model parameters. The scale of y is 0.0005093. Parameter\n",
      "estimation work better when this value is between 1 and 1000. The recommended\n",
      "rescaling is 100 * y.\n",
      "\n",
      "This warning can be disabled by either rescaling y before initializing the\n",
      "model or by setting rescale=False.\n",
      "\n",
      "  warnings.warn(\n"
     ]
    }
   ],
   "source": [
    "model_fit = model.fit()"
   ]
  },
  {
   "cell_type": "code",
   "execution_count": 135,
   "id": "98efec31-a8ae-49d0-a248-42ec75c8689f",
   "metadata": {},
   "outputs": [
    {
     "data": {
      "text/html": [
       "<table class=\"simpletable\">\n",
       "<caption>Constant Mean - ARCH Model Results</caption>\n",
       "<tr>\n",
       "  <th>Dep. Variable:</th>       <td>returns</td>      <th>  R-squared:         </th>  <td>   0.000</td> \n",
       "</tr>\n",
       "<tr>\n",
       "  <th>Mean Model:</th>       <td>Constant Mean</td>   <th>  Adj. R-squared:    </th>  <td>   0.000</td> \n",
       "</tr>\n",
       "<tr>\n",
       "  <th>Vol Model:</th>            <td>ARCH</td>        <th>  Log-Likelihood:    </th> <td>   794.222</td>\n",
       "</tr>\n",
       "<tr>\n",
       "  <th>Distribution:</th>        <td>Normal</td>       <th>  AIC:               </th> <td>  -1570.44</td>\n",
       "</tr>\n",
       "<tr>\n",
       "  <th>Method:</th>        <td>Maximum Likelihood</td> <th>  BIC:               </th> <td>  -1536.28</td>\n",
       "</tr>\n",
       "<tr>\n",
       "  <th></th>                        <td></td>          <th>  No. Observations:  </th>     <td>329</td>   \n",
       "</tr>\n",
       "<tr>\n",
       "  <th>Date:</th>           <td>Wed, Apr 17 2024</td>  <th>  Df Residuals:      </th>     <td>328</td>   \n",
       "</tr>\n",
       "<tr>\n",
       "  <th>Time:</th>               <td>19:30:28</td>      <th>  Df Model:          </th>      <td>1</td>    \n",
       "</tr>\n",
       "</table>\n",
       "<table class=\"simpletable\">\n",
       "<caption>Mean Model</caption>\n",
       "<tr>\n",
       "   <td></td>     <th>coef</th>     <th>std err</th>      <th>t</th>       <th>P>|t|</th>     <th>95.0% Conf. Int.</th>   \n",
       "</tr>\n",
       "<tr>\n",
       "  <th>mu</th> <td>2.0194e-03</td> <td>1.015e-03</td> <td>    1.990</td> <td>4.662e-02</td> <td>[3.024e-05,4.009e-03]</td>\n",
       "</tr>\n",
       "</table>\n",
       "<table class=\"simpletable\">\n",
       "<caption>Volatility Model</caption>\n",
       "<tr>\n",
       "      <td></td>        <th>coef</th>     <th>std err</th>      <th>t</th>       <th>P>|t|</th>      <th>95.0% Conf. Int.</th>   \n",
       "</tr>\n",
       "<tr>\n",
       "  <th>omega</th>    <td>2.6337e-04</td> <td>7.410e-05</td> <td>    3.554</td> <td>3.790e-04</td>  <td>[1.181e-04,4.086e-04]</td>\n",
       "</tr>\n",
       "<tr>\n",
       "  <th>alpha[1]</th> <td>    0.1881</td> <td>    0.109</td> <td>    1.722</td> <td>8.502e-02</td>  <td>[-2.596e-02,  0.402]</td> \n",
       "</tr>\n",
       "<tr>\n",
       "  <th>alpha[2]</th> <td>    0.0176</td> <td>3.852e-02</td> <td>    0.458</td> <td>    0.647</td> <td>[-5.787e-02,9.312e-02]</td>\n",
       "</tr>\n",
       "<tr>\n",
       "  <th>alpha[3]</th> <td>1.4207e-16</td> <td>4.706e-02</td> <td>3.019e-15</td> <td>    1.000</td> <td>[-9.223e-02,9.223e-02]</td>\n",
       "</tr>\n",
       "<tr>\n",
       "  <th>alpha[4]</th> <td>    0.0885</td> <td>8.542e-02</td> <td>    1.036</td> <td>    0.300</td>  <td>[-7.890e-02,  0.256]</td> \n",
       "</tr>\n",
       "<tr>\n",
       "  <th>alpha[5]</th> <td>9.1099e-17</td> <td>6.302e-02</td> <td>1.445e-15</td> <td>    1.000</td>    <td>[ -0.124,  0.124]</td>  \n",
       "</tr>\n",
       "<tr>\n",
       "  <th>alpha[6]</th> <td>4.6388e-03</td> <td>3.965e-02</td> <td>    0.117</td> <td>    0.907</td> <td>[-7.307e-02,8.234e-02]</td>\n",
       "</tr>\n",
       "<tr>\n",
       "  <th>alpha[7]</th> <td>    0.2551</td> <td>    0.142</td> <td>    1.791</td> <td>7.321e-02</td>  <td>[-2.399e-02,  0.534]</td> \n",
       "</tr>\n",
       "</table><br/><br/>Covariance estimator: robust"
      ],
      "text/plain": [
       "<class 'statsmodels.iolib.summary.Summary'>\n",
       "\"\"\"\n",
       "                      Constant Mean - ARCH Model Results                      \n",
       "==============================================================================\n",
       "Dep. Variable:                returns   R-squared:                       0.000\n",
       "Mean Model:             Constant Mean   Adj. R-squared:                  0.000\n",
       "Vol Model:                       ARCH   Log-Likelihood:                794.222\n",
       "Distribution:                  Normal   AIC:                          -1570.44\n",
       "Method:            Maximum Likelihood   BIC:                          -1536.28\n",
       "                                        No. Observations:                  329\n",
       "Date:                Wed, Apr 17 2024   Df Residuals:                      328\n",
       "Time:                        19:30:28   Df Model:                            1\n",
       "                                 Mean Model                                 \n",
       "============================================================================\n",
       "                 coef    std err          t      P>|t|      95.0% Conf. Int.\n",
       "----------------------------------------------------------------------------\n",
       "mu         2.0194e-03  1.015e-03      1.990  4.662e-02 [3.024e-05,4.009e-03]\n",
       "                               Volatility Model                              \n",
       "=============================================================================\n",
       "                 coef    std err          t      P>|t|       95.0% Conf. Int.\n",
       "-----------------------------------------------------------------------------\n",
       "omega      2.6337e-04  7.410e-05      3.554  3.790e-04  [1.181e-04,4.086e-04]\n",
       "alpha[1]       0.1881      0.109      1.722  8.502e-02   [-2.596e-02,  0.402]\n",
       "alpha[2]       0.0176  3.852e-02      0.458      0.647 [-5.787e-02,9.312e-02]\n",
       "alpha[3]   1.4207e-16  4.706e-02  3.019e-15      1.000 [-9.223e-02,9.223e-02]\n",
       "alpha[4]       0.0885  8.542e-02      1.036      0.300   [-7.890e-02,  0.256]\n",
       "alpha[5]   9.1099e-17  6.302e-02  1.445e-15      1.000      [ -0.124,  0.124]\n",
       "alpha[6]   4.6388e-03  3.965e-02      0.117      0.907 [-7.307e-02,8.234e-02]\n",
       "alpha[7]       0.2551      0.142      1.791  7.321e-02   [-2.399e-02,  0.534]\n",
       "=============================================================================\n",
       "\n",
       "Covariance estimator: robust\n",
       "\"\"\""
      ]
     },
     "execution_count": 135,
     "metadata": {},
     "output_type": "execute_result"
    }
   ],
   "source": [
    "model_fit.summary()"
   ]
  },
  {
   "cell_type": "code",
   "execution_count": 137,
   "id": "d7c9e75b-eac8-4f7e-be19-c5d6c4285dfc",
   "metadata": {},
   "outputs": [],
   "source": [
    "yhat = model_fit.forecast(horizon=n_test)"
   ]
  },
  {
   "cell_type": "code",
   "execution_count": 143,
   "id": "140e9c2e-dde1-483d-b4da-68b328c8a68c",
   "metadata": {},
   "outputs": [
    {
     "data": {
      "image/png": "[encoded data removed]",
      "text/plain": [
       "<Figure size 432x288 with 1 Axes>"
      ]
     },
     "metadata": {
      "needs_background": "light"
     },
     "output_type": "display_data"
    }
   ],
   "source": [
    "var = [i*0.01 for i in range(0,100)]\n",
    "pyplot.plot(var[-n_test:])\n",
    "pyplot.plot(yhat.variance.values[-1, :])\n",
    "pyplot.show()"
   ]
  },
  {
   "cell_type": "markdown",
   "id": "84b05971-f3be-41c2-bc33-2c79ae45c236",
   "metadata": {},
   "source": [
    "## METHOD TWO"
   ]
  },
  {
   "cell_type": "code",
   "execution_count": null,
   "id": "4c3151cb-89a4-483e-bdc5-39aa06b602ef",
   "metadata": {},
   "outputs": [],
   "source": []
  },
  {
   "cell_type": "code",
   "execution_count": 150,
   "id": "94642aac-c74a-42ec-bd8a-f3ebd1f95030",
   "metadata": {},
   "outputs": [
    {
     "name": "stderr",
     "output_type": "stream",
     "text": [
      "C:\\Users\\shupe\\anaconda3\\lib\\site-packages\\statsmodels\\graphics\\tsaplots.py:348: FutureWarning: The default method 'yw' can produce PACF values outside of the [-1,1] interval. After 0.13, the default will change tounadjusted Yule-Walker ('ywm'). You can use this method now by setting method='ywm'.\n",
      "  warnings.warn(\n"
     ]
    },
    {
     "data": {
      "image/png": "[encoded data removed]",
      "text/plain": [
       "<Figure size 432x288 with 1 Axes>"
      ]
     },
     "metadata": {
      "needs_background": "light"
     },
     "output_type": "display_data"
    }
   ],
   "source": [
    "plot_pacf(new[\"returns\"] **2,lags=10)\n",
    "pyplot.show()"
   ]
  },
  {
   "cell_type": "code",
   "execution_count": 194,
   "id": "88675656-2266-4357-b5ab-84d2eb5731fa",
   "metadata": {},
   "outputs": [],
   "source": [
    "model_two=arch_model(new[\"returns\"],p=1,q=1)"
   ]
  },
  {
   "cell_type": "code",
   "execution_count": 195,
   "id": "ea46de79-df0f-4284-8713-5bc39be921c5",
   "metadata": {},
   "outputs": [
    {
     "name": "stdout",
     "output_type": "stream",
     "text": [
      "Iteration:      1,   Func. Count:      6,   Neg. LLF: 35202040123.169014\n",
      "Iteration:      2,   Func. Count:     17,   Neg. LLF: 298.2035988785913\n",
      "Iteration:      3,   Func. Count:     26,   Neg. LLF: 16781.120239989148\n",
      "Iteration:      4,   Func. Count:     35,   Neg. LLF: -835.673873848992\n",
      "Iteration:      5,   Func. Count:     42,   Neg. LLF: -842.3175625641273\n",
      "Iteration:      6,   Func. Count:     49,   Neg. LLF: -844.0470951075752\n",
      "Iteration:      7,   Func. Count:     55,   Neg. LLF: -850.9096011422052\n",
      "Iteration:      8,   Func. Count:     61,   Neg. LLF: -850.9277620681362\n",
      "Iteration:      9,   Func. Count:     66,   Neg. LLF: -850.9289260359817\n",
      "Iteration:     10,   Func. Count:     71,   Neg. LLF: -850.9290039598573\n",
      "Iteration:     11,   Func. Count:     76,   Neg. LLF: -850.9290087742997\n",
      "Iteration:     12,   Func. Count:     80,   Neg. LLF: -850.9290087743436\n",
      "Optimization terminated successfully    (Exit mode 0)\n",
      "            Current function value: -850.9290087742997\n",
      "            Iterations: 12\n",
      "            Function evaluations: 80\n",
      "            Gradient evaluations: 12\n"
     ]
    },
    {
     "name": "stderr",
     "output_type": "stream",
     "text": [
      "C:\\Users\\shupe\\anaconda3\\lib\\site-packages\\arch\\univariate\\base.py:311: DataScaleWarning: y is poorly scaled, which may affect convergence of the optimizer when\n",
      "estimating the model parameters. The scale of y is 0.0005917. Parameter\n",
      "estimation work better when this value is between 1 and 1000. The recommended\n",
      "rescaling is 100 * y.\n",
      "\n",
      "This warning can be disabled by either rescaling y before initializing the\n",
      "model or by setting rescale=False.\n",
      "\n",
      "  warnings.warn(\n"
     ]
    }
   ],
   "source": [
    "model_two_fit=model_two.fit()"
   ]
  },
  {
   "cell_type": "code",
   "execution_count": 196,
   "id": "2e5a95be-5c77-4dc5-aacc-2f13ccfa5824",
   "metadata": {},
   "outputs": [
    {
     "data": {
      "text/html": [
       "<table class=\"simpletable\">\n",
       "<caption>Constant Mean - GARCH Model Results</caption>\n",
       "<tr>\n",
       "  <th>Dep. Variable:</th>       <td>returns</td>      <th>  R-squared:         </th>  <td>   0.000</td> \n",
       "</tr>\n",
       "<tr>\n",
       "  <th>Mean Model:</th>       <td>Constant Mean</td>   <th>  Adj. R-squared:    </th>  <td>   0.000</td> \n",
       "</tr>\n",
       "<tr>\n",
       "  <th>Vol Model:</th>            <td>GARCH</td>       <th>  Log-Likelihood:    </th> <td>   850.929</td>\n",
       "</tr>\n",
       "<tr>\n",
       "  <th>Distribution:</th>        <td>Normal</td>       <th>  AIC:               </th> <td>  -1693.86</td>\n",
       "</tr>\n",
       "<tr>\n",
       "  <th>Method:</th>        <td>Maximum Likelihood</td> <th>  BIC:               </th> <td>  -1678.25</td>\n",
       "</tr>\n",
       "<tr>\n",
       "  <th></th>                        <td></td>          <th>  No. Observations:  </th>     <td>366</td>   \n",
       "</tr>\n",
       "<tr>\n",
       "  <th>Date:</th>           <td>Wed, Apr 17 2024</td>  <th>  Df Residuals:      </th>     <td>365</td>   \n",
       "</tr>\n",
       "<tr>\n",
       "  <th>Time:</th>               <td>20:03:50</td>      <th>  Df Model:          </th>      <td>1</td>    \n",
       "</tr>\n",
       "</table>\n",
       "<table class=\"simpletable\">\n",
       "<caption>Mean Model</caption>\n",
       "<tr>\n",
       "   <td></td>     <th>coef</th>     <th>std err</th>      <th>t</th>       <th>P>|t|</th>      <th>95.0% Conf. Int.</th>   \n",
       "</tr>\n",
       "<tr>\n",
       "  <th>mu</th> <td>1.6386e-03</td> <td>1.151e-03</td> <td>    1.424</td> <td>    0.154</td> <td>[-6.167e-04,3.894e-03]</td>\n",
       "</tr>\n",
       "</table>\n",
       "<table class=\"simpletable\">\n",
       "<caption>Volatility Model</caption>\n",
       "<tr>\n",
       "      <td></td>        <th>coef</th>     <th>std err</th>      <th>t</th>       <th>P>|t|</th>      <th>95.0% Conf. Int.</th>   \n",
       "</tr>\n",
       "<tr>\n",
       "  <th>omega</th>    <td>1.0244e-04</td> <td>6.161e-05</td> <td>    1.663</td> <td>9.635e-02</td> <td>[-1.831e-05,2.232e-04]</td>\n",
       "</tr>\n",
       "<tr>\n",
       "  <th>alpha[1]</th> <td>    0.1148</td> <td>6.112e-02</td> <td>    1.878</td> <td>6.031e-02</td>  <td>[-4.979e-03,  0.235]</td> \n",
       "</tr>\n",
       "<tr>\n",
       "  <th>beta[1]</th>  <td>    0.7136</td> <td>    0.142</td> <td>    5.021</td> <td>5.153e-07</td>    <td>[  0.435,  0.992]</td>  \n",
       "</tr>\n",
       "</table><br/><br/>Covariance estimator: robust"
      ],
      "text/plain": [
       "<class 'statsmodels.iolib.summary.Summary'>\n",
       "\"\"\"\n",
       "                     Constant Mean - GARCH Model Results                      \n",
       "==============================================================================\n",
       "Dep. Variable:                returns   R-squared:                       0.000\n",
       "Mean Model:             Constant Mean   Adj. R-squared:                  0.000\n",
       "Vol Model:                      GARCH   Log-Likelihood:                850.929\n",
       "Distribution:                  Normal   AIC:                          -1693.86\n",
       "Method:            Maximum Likelihood   BIC:                          -1678.25\n",
       "                                        No. Observations:                  366\n",
       "Date:                Wed, Apr 17 2024   Df Residuals:                      365\n",
       "Time:                        20:03:50   Df Model:                            1\n",
       "                                  Mean Model                                 \n",
       "=============================================================================\n",
       "                 coef    std err          t      P>|t|       95.0% Conf. Int.\n",
       "-----------------------------------------------------------------------------\n",
       "mu         1.6386e-03  1.151e-03      1.424      0.154 [-6.167e-04,3.894e-03]\n",
       "                               Volatility Model                              \n",
       "=============================================================================\n",
       "                 coef    std err          t      P>|t|       95.0% Conf. Int.\n",
       "-----------------------------------------------------------------------------\n",
       "omega      1.0244e-04  6.161e-05      1.663  9.635e-02 [-1.831e-05,2.232e-04]\n",
       "alpha[1]       0.1148  6.112e-02      1.878  6.031e-02   [-4.979e-03,  0.235]\n",
       "beta[1]        0.7136      0.142      5.021  5.153e-07      [  0.435,  0.992]\n",
       "=============================================================================\n",
       "\n",
       "Covariance estimator: robust\n",
       "\"\"\""
      ]
     },
     "execution_count": 196,
     "metadata": {},
     "output_type": "execute_result"
    }
   ],
   "source": [
    "model_two_fit.summary()"
   ]
  },
  {
   "cell_type": "code",
   "execution_count": 199,
   "id": "0d77e18f-492a-474a-9bc8-24eecc3b7c19",
   "metadata": {
    "tags": []
   },
   "outputs": [
    {
     "name": "stderr",
     "output_type": "stream",
     "text": [
      "C:\\Users\\shupe\\anaconda3\\lib\\site-packages\\arch\\univariate\\volatility.py:1197: RuntimeWarning: invalid value encountered in double_scalars\n",
      "  scale = np.mean(resids**2) / (target ** (2.0 / power))\n",
      "C:\\Users\\shupe\\anaconda3\\lib\\site-packages\\arch\\univariate\\base.py:766: ConvergenceWarning: The optimizer returned code 4. The message is:\n",
      "Inequality constraints incompatible\n",
      "See scipy.optimize.fmin_slsqp for code meaning.\n",
      "\n",
      "  warnings.warn(\n",
      "C:\\Users\\shupe\\anaconda3\\lib\\site-packages\\arch\\univariate\\base.py:766: ConvergenceWarning: The optimizer returned code 8. The message is:\n",
      "Positive directional derivative for linesearch\n",
      "See scipy.optimize.fmin_slsqp for code meaning.\n",
      "\n",
      "  warnings.warn(\n"
     ]
    }
   ],
   "source": [
    "rolling_predictions=[]\n",
    "test_size=365\n",
    "\n",
    "for x in range(test_size):\n",
    "    train_two=new[\"returns\"][:-(test_size-x)] *100\n",
    "    model_two= arch_model(train_two, p=7,q=7)\n",
    "    model_two_fit=model_two.fit(disp=\"off\")\n",
    "    pred=model_two_fit.forecast(horizon=1)\n",
    "    rolling_predictions.append(np.sqrt(pred.variance.values[-1,:][0]))"
   ]
  },
  {
   "cell_type": "code",
   "execution_count": 200,
   "id": "f7d4911f-bc41-476a-a869-f065abb4ca92",
   "metadata": {},
   "outputs": [],
   "source": [
    "rolling_predictions=pd.Series(rolling_predictions, index=new[\"returns\"].index[-365:])"
   ]
  },
  {
   "cell_type": "code",
   "execution_count": 201,
   "id": "f2f2bded-ef47-4d58-8488-6a1ff492a95a",
   "metadata": {},
   "outputs": [
    {
     "data": {
      "text/plain": [
       "<matplotlib.legend.Legend at 0x1e8a32c02e0>"
      ]
     },
     "execution_count": 201,
     "metadata": {},
     "output_type": "execute_result"
    },
    {
     "data": {
      "image/png": "[encoded data removed]",
      "text/plain": [
       "<Figure size 720x288 with 1 Axes>"
      ]
     },
     "metadata": {
      "needs_background": "light"
     },
     "output_type": "display_data"
    }
   ],
   "source": [
    "pyplot.figure(figsize=(10,4))\n",
    "true, = pyplot.plot(new[\"returns\"][-365:] *100)\n",
    "preds, = pyplot.plot(rolling_predictions)\n",
    "pyplot.title('Volatility Prediction - Rolling Forecast', fontsize=20)\n",
    "pyplot.legend(['True Returns', 'Predicted Volatility'], fontsize=16)"
   ]
  },
  {
   "cell_type": "code",
   "execution_count": null,
   "id": "e1709e1f-f7a4-4f6b-b4f3-4ebdca53f618",
   "metadata": {},
   "outputs": [],
   "source": []
  }
 ],
 "metadata": {
  "kernelspec": {
   "display_name": "Python 3 (ipykernel)",
   "language": "python",
   "name": "python3"
  },
  "language_info": {
   "codemirror_mode": {
    "name": "ipython",
    "version": 3
   },
   "file_extension": ".py",
   "mimetype": "text/x-python",
   "name": "python",
   "nbconvert_exporter": "python",
   "pygments_lexer": "ipython3",
   "version": "3.9.12"
  }
 },
 "nbformat": 4,
 "nbformat_minor": 5
}
