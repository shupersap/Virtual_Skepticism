{
 "cells": [
  {
   "cell_type": "code",
   "execution_count": 1,
   "id": "7d20b976-0d53-4cdc-9c96-f9a3662365d2",
   "metadata": {},
   "outputs": [],
   "source": [
    "#Import Libraries\n",
    "import polars as pl\n",
    "from dotenv import load_dotenv,find_dotenv\n",
    "from selenium import webdriver\n",
    "from selenium.webdriver.chrome.service import Service\n",
    "from selenium.webdriver.chrome.options import Options as chromeoptions\n",
    "from selenium.webdriver.common.by import By\n",
    "from webdriver_manager.chrome import ChromeDriverManager\n",
    "import requests\n",
    "import json\n",
    "import os\n",
    "import re\n",
    "from multiprocessing import Pool c"
   ]
  },
  {
   "cell_type": "code",
   "execution_count": 2,
   "id": "226c61bd-ea0c-44d9-838f-953f4385ec97",
   "metadata": {},
   "outputs": [],
   "source": [
    "#Creating webdriver instance as well as options for fullscreen\n",
    "options = chromeoptions()\n",
    "options.add_argument(\"--window-size=1920,1080\")\n",
    "driver = webdriver.Chrome(options=options,service=Service(ChromeDriverManager().install()))"
   ]
  },
  {
   "cell_type": "code",
   "execution_count": 3,
   "id": "25f87b26-925e-4bcc-845b-c47630d2ad26",
   "metadata": {},
   "outputs": [],
   "source": [
    "#retrieve api key from hidden .env file\n",
    "load_dotenv(find_dotenv())\n",
    "hidden_key = os.getenv(\"hidden_api_key\")"
   ]
  },
  {
   "cell_type": "code",
   "execution_count": 4,
   "id": "dff45f6d-9106-4e28-935b-ee39f3d1afc9",
   "metadata": {},
   "outputs": [],
   "source": [
    "#create function to extract data from cryptocompare api\n",
    "def get_data(symbol,api_key):\n",
    "    #url created with symbol and api_key taken as global parameters\n",
    "    url=f\"https://min-api.cryptocompare.com/data/v2/histoday?fsym={symbol}&tsym=USD&limit=365&api_key={api_key}\"\n",
    "    #send\n",
    "    response=requests.get(url)\n",
    "    data=response.json()[\"Data\"][\"Data\"]\n",
    "    data_with_symbol = [{'symbol': symbol, **item} for item in data]\n",
    "    return data_with_symbol"
   ]
  },
  {
   "cell_type": "code",
   "execution_count": 5,
   "id": "9d73ac6b-4fc0-4e37-b9df-d6ce828fd8e8",
   "metadata": {},
   "outputs": [],
   "source": [
    "if __name__ == \"__main__\":\n",
    "    symbols=[\"BTC\", \"ETH\", \"LTC\"]\n",
    "    api_key= hidden_key"
   ]
  },
  {
   "cell_type": "code",
   "execution_count": 6,
   "id": "53e1906b-fc24-45b8-a6c9-5be4297c0663",
   "metadata": {},
   "outputs": [],
   "source": [
    "alls_df =[]\n",
    "with Pool(4) as pool:\n",
    "    for symbol in symbols:\n",
    "        result= get_data(symbol, api_key)\n",
    "        alls_df.append(pl.DataFrame(result))"
   ]
  },
  {
   "cell_type": "code",
   "execution_count": 7,
   "id": "1906eb88-24e4-4567-a4c3-5595d99a74d1",
   "metadata": {},
   "outputs": [],
   "source": [
    "df_final=pl.concat(alls_df)"
   ]
  },
  {
   "cell_type": "code",
   "execution_count": 14,
   "id": "0bed5626-5cf9-4614-89b4-94e1b3313585",
   "metadata": {},
   "outputs": [],
   "source": [
    "df_fixed=df_final.with_columns(pl.from_epoch(pl.col(\"time\"),time_unit=\"s\"))"
   ]
  },
  {
   "cell_type": "code",
   "execution_count": 15,
   "id": "e52a6403-ed42-45f5-9a72-c1cd7937e759",
   "metadata": {},
   "outputs": [
    {
     "data": {
      "text/html": [
       "<div><style>\n",
       ".dataframe > thead > tr,\n",
       ".dataframe > tbody > tr {\n",
       "  text-align: right;\n",
       "  white-space: pre-wrap;\n",
       "}\n",
       "</style>\n",
       "<small>shape: (1_098, 10)</small><table border=\"1\" class=\"dataframe\"><thead><tr><th>symbol</th><th>time</th><th>high</th><th>low</th><th>open</th><th>volumefrom</th><th>volumeto</th><th>close</th><th>conversionType</th><th>conversionSymbol</th></tr><tr><td>str</td><td>datetime[μs]</td><td>f64</td><td>f64</td><td>f64</td><td>f64</td><td>f64</td><td>f64</td><td>str</td><td>str</td></tr></thead><tbody><tr><td>&quot;BTC&quot;</td><td>2023-03-18 00:00:00</td><td>27749.91</td><td>26655.22</td><td>27441.41</td><td>48843.14</td><td>1.3355e9</td><td>26973.46</td><td>&quot;direct&quot;</td><td>&quot;&quot;</td></tr><tr><td>&quot;BTC&quot;</td><td>2023-03-19 00:00:00</td><td>28441.41</td><td>26901.66</td><td>26973.46</td><td>48163.58</td><td>1.3379e9</td><td>28040.29</td><td>&quot;direct&quot;</td><td>&quot;&quot;</td></tr><tr><td>&quot;BTC&quot;</td><td>2023-03-20 00:00:00</td><td>28539.63</td><td>27228.03</td><td>28040.29</td><td>65834.79</td><td>1.8387e9</td><td>27807.05</td><td>&quot;direct&quot;</td><td>&quot;&quot;</td></tr><tr><td>&quot;BTC&quot;</td><td>2023-03-21 00:00:00</td><td>28494.87</td><td>27416.8</td><td>27807.05</td><td>45696.4</td><td>1.2822e9</td><td>28188.11</td><td>&quot;direct&quot;</td><td>&quot;&quot;</td></tr><tr><td>&quot;BTC&quot;</td><td>2023-03-22 00:00:00</td><td>28902.98</td><td>26676.69</td><td>28188.11</td><td>81267.64</td><td>2.2779e9</td><td>27316.18</td><td>&quot;direct&quot;</td><td>&quot;&quot;</td></tr><tr><td>&hellip;</td><td>&hellip;</td><td>&hellip;</td><td>&hellip;</td><td>&hellip;</td><td>&hellip;</td><td>&hellip;</td><td>&hellip;</td><td>&hellip;</td><td>&hellip;</td></tr><tr><td>&quot;LTC&quot;</td><td>2024-03-13 00:00:00</td><td>98.97</td><td>94.16</td><td>97.56</td><td>447732.48</td><td>4.3456e7</td><td>97.28</td><td>&quot;direct&quot;</td><td>&quot;&quot;</td></tr><tr><td>&quot;LTC&quot;</td><td>2024-03-14 00:00:00</td><td>98.19</td><td>89.56</td><td>97.28</td><td>652194.6</td><td>6.1655e7</td><td>94.08</td><td>&quot;direct&quot;</td><td>&quot;&quot;</td></tr><tr><td>&quot;LTC&quot;</td><td>2024-03-15 00:00:00</td><td>95.35</td><td>83.39</td><td>94.08</td><td>662882.37</td><td>5.8638e7</td><td>89.76</td><td>&quot;direct&quot;</td><td>&quot;&quot;</td></tr><tr><td>&quot;LTC&quot;</td><td>2024-03-16 00:00:00</td><td>90.71</td><td>82.26</td><td>89.76</td><td>427439.26</td><td>3.7080e7</td><td>84.07</td><td>&quot;direct&quot;</td><td>&quot;&quot;</td></tr><tr><td>&quot;LTC&quot;</td><td>2024-03-17 00:00:00</td><td>86.74</td><td>80.67</td><td>84.07</td><td>297370.64</td><td>2.5252e7</td><td>86.03</td><td>&quot;direct&quot;</td><td>&quot;&quot;</td></tr></tbody></table></div>"
      ],
      "text/plain": [
       "shape: (1_098, 10)\n",
       "┌────────┬─────────────┬──────────┬──────────┬───┬──────────┬──────────┬─────────────┬─────────────┐\n",
       "│ symbol ┆ time        ┆ high     ┆ low      ┆ … ┆ volumeto ┆ close    ┆ conversionT ┆ conversionS │\n",
       "│ ---    ┆ ---         ┆ ---      ┆ ---      ┆   ┆ ---      ┆ ---      ┆ ype         ┆ ymbol       │\n",
       "│ str    ┆ datetime[μs ┆ f64      ┆ f64      ┆   ┆ f64      ┆ f64      ┆ ---         ┆ ---         │\n",
       "│        ┆ ]           ┆          ┆          ┆   ┆          ┆          ┆ str         ┆ str         │\n",
       "╞════════╪═════════════╪══════════╪══════════╪═══╪══════════╪══════════╪═════════════╪═════════════╡\n",
       "│ BTC    ┆ 2023-03-18  ┆ 27749.91 ┆ 26655.22 ┆ … ┆ 1.3355e9 ┆ 26973.46 ┆ direct      ┆             │\n",
       "│        ┆ 00:00:00    ┆          ┆          ┆   ┆          ┆          ┆             ┆             │\n",
       "│ BTC    ┆ 2023-03-19  ┆ 28441.41 ┆ 26901.66 ┆ … ┆ 1.3379e9 ┆ 28040.29 ┆ direct      ┆             │\n",
       "│        ┆ 00:00:00    ┆          ┆          ┆   ┆          ┆          ┆             ┆             │\n",
       "│ BTC    ┆ 2023-03-20  ┆ 28539.63 ┆ 27228.03 ┆ … ┆ 1.8387e9 ┆ 27807.05 ┆ direct      ┆             │\n",
       "│        ┆ 00:00:00    ┆          ┆          ┆   ┆          ┆          ┆             ┆             │\n",
       "│ BTC    ┆ 2023-03-21  ┆ 28494.87 ┆ 27416.8  ┆ … ┆ 1.2822e9 ┆ 28188.11 ┆ direct      ┆             │\n",
       "│        ┆ 00:00:00    ┆          ┆          ┆   ┆          ┆          ┆             ┆             │\n",
       "│ BTC    ┆ 2023-03-22  ┆ 28902.98 ┆ 26676.69 ┆ … ┆ 2.2779e9 ┆ 27316.18 ┆ direct      ┆             │\n",
       "│        ┆ 00:00:00    ┆          ┆          ┆   ┆          ┆          ┆             ┆             │\n",
       "│ …      ┆ …           ┆ …        ┆ …        ┆ … ┆ …        ┆ …        ┆ …           ┆ …           │\n",
       "│ LTC    ┆ 2024-03-13  ┆ 98.97    ┆ 94.16    ┆ … ┆ 4.3456e7 ┆ 97.28    ┆ direct      ┆             │\n",
       "│        ┆ 00:00:00    ┆          ┆          ┆   ┆          ┆          ┆             ┆             │\n",
       "│ LTC    ┆ 2024-03-14  ┆ 98.19    ┆ 89.56    ┆ … ┆ 6.1655e7 ┆ 94.08    ┆ direct      ┆             │\n",
       "│        ┆ 00:00:00    ┆          ┆          ┆   ┆          ┆          ┆             ┆             │\n",
       "│ LTC    ┆ 2024-03-15  ┆ 95.35    ┆ 83.39    ┆ … ┆ 5.8638e7 ┆ 89.76    ┆ direct      ┆             │\n",
       "│        ┆ 00:00:00    ┆          ┆          ┆   ┆          ┆          ┆             ┆             │\n",
       "│ LTC    ┆ 2024-03-16  ┆ 90.71    ┆ 82.26    ┆ … ┆ 3.7080e7 ┆ 84.07    ┆ direct      ┆             │\n",
       "│        ┆ 00:00:00    ┆          ┆          ┆   ┆          ┆          ┆             ┆             │\n",
       "│ LTC    ┆ 2024-03-17  ┆ 86.74    ┆ 80.67    ┆ … ┆ 2.5252e7 ┆ 86.03    ┆ direct      ┆             │\n",
       "│        ┆ 00:00:00    ┆          ┆          ┆   ┆          ┆          ┆             ┆             │\n",
       "└────────┴─────────────┴──────────┴──────────┴───┴──────────┴──────────┴─────────────┴─────────────┘"
      ]
     },
     "execution_count": 15,
     "metadata": {},
     "output_type": "execute_result"
    }
   ],
   "source": [
    "df_fixed"
   ]
  },
  {
   "cell_type": "code",
   "execution_count": 17,
   "id": "2b57f848-1a21-467e-a5df-d271bcaf762f",
   "metadata": {},
   "outputs": [],
   "source": [
    "df_fixed=df_fixed.drop(\"volumefrom\",\"volumeto\",\"conversionType\",\"conversionSymbol\")"
   ]
  },
  {
   "cell_type": "code",
   "execution_count": 20,
   "id": "372c7966-e863-40bb-a1ea-f0cf4be9ee51",
   "metadata": {},
   "outputs": [
    {
     "data": {
      "text/html": [
       "<div><style>\n",
       ".dataframe > thead > tr,\n",
       ".dataframe > tbody > tr {\n",
       "  text-align: right;\n",
       "  white-space: pre-wrap;\n",
       "}\n",
       "</style>\n",
       "<small>shape: (1_098, 6)</small><table border=\"1\" class=\"dataframe\"><thead><tr><th>symbol</th><th>time</th><th>high</th><th>low</th><th>open</th><th>close</th></tr><tr><td>str</td><td>datetime[μs]</td><td>f64</td><td>f64</td><td>f64</td><td>f64</td></tr></thead><tbody><tr><td>&quot;BTC&quot;</td><td>2023-03-18 00:00:00</td><td>27749.91</td><td>26655.22</td><td>27441.41</td><td>26973.46</td></tr><tr><td>&quot;BTC&quot;</td><td>2023-03-19 00:00:00</td><td>28441.41</td><td>26901.66</td><td>26973.46</td><td>28040.29</td></tr><tr><td>&quot;BTC&quot;</td><td>2023-03-20 00:00:00</td><td>28539.63</td><td>27228.03</td><td>28040.29</td><td>27807.05</td></tr><tr><td>&quot;BTC&quot;</td><td>2023-03-21 00:00:00</td><td>28494.87</td><td>27416.8</td><td>27807.05</td><td>28188.11</td></tr><tr><td>&quot;BTC&quot;</td><td>2023-03-22 00:00:00</td><td>28902.98</td><td>26676.69</td><td>28188.11</td><td>27316.18</td></tr><tr><td>&hellip;</td><td>&hellip;</td><td>&hellip;</td><td>&hellip;</td><td>&hellip;</td><td>&hellip;</td></tr><tr><td>&quot;LTC&quot;</td><td>2024-03-13 00:00:00</td><td>98.97</td><td>94.16</td><td>97.56</td><td>97.28</td></tr><tr><td>&quot;LTC&quot;</td><td>2024-03-14 00:00:00</td><td>98.19</td><td>89.56</td><td>97.28</td><td>94.08</td></tr><tr><td>&quot;LTC&quot;</td><td>2024-03-15 00:00:00</td><td>95.35</td><td>83.39</td><td>94.08</td><td>89.76</td></tr><tr><td>&quot;LTC&quot;</td><td>2024-03-16 00:00:00</td><td>90.71</td><td>82.26</td><td>89.76</td><td>84.07</td></tr><tr><td>&quot;LTC&quot;</td><td>2024-03-17 00:00:00</td><td>86.74</td><td>80.67</td><td>84.07</td><td>86.03</td></tr></tbody></table></div>"
      ],
      "text/plain": [
       "shape: (1_098, 6)\n",
       "┌────────┬─────────────────────┬──────────┬──────────┬──────────┬──────────┐\n",
       "│ symbol ┆ time                ┆ high     ┆ low      ┆ open     ┆ close    │\n",
       "│ ---    ┆ ---                 ┆ ---      ┆ ---      ┆ ---      ┆ ---      │\n",
       "│ str    ┆ datetime[μs]        ┆ f64      ┆ f64      ┆ f64      ┆ f64      │\n",
       "╞════════╪═════════════════════╪══════════╪══════════╪══════════╪══════════╡\n",
       "│ BTC    ┆ 2023-03-18 00:00:00 ┆ 27749.91 ┆ 26655.22 ┆ 27441.41 ┆ 26973.46 │\n",
       "│ BTC    ┆ 2023-03-19 00:00:00 ┆ 28441.41 ┆ 26901.66 ┆ 26973.46 ┆ 28040.29 │\n",
       "│ BTC    ┆ 2023-03-20 00:00:00 ┆ 28539.63 ┆ 27228.03 ┆ 28040.29 ┆ 27807.05 │\n",
       "│ BTC    ┆ 2023-03-21 00:00:00 ┆ 28494.87 ┆ 27416.8  ┆ 27807.05 ┆ 28188.11 │\n",
       "│ BTC    ┆ 2023-03-22 00:00:00 ┆ 28902.98 ┆ 26676.69 ┆ 28188.11 ┆ 27316.18 │\n",
       "│ …      ┆ …                   ┆ …        ┆ …        ┆ …        ┆ …        │\n",
       "│ LTC    ┆ 2024-03-13 00:00:00 ┆ 98.97    ┆ 94.16    ┆ 97.56    ┆ 97.28    │\n",
       "│ LTC    ┆ 2024-03-14 00:00:00 ┆ 98.19    ┆ 89.56    ┆ 97.28    ┆ 94.08    │\n",
       "│ LTC    ┆ 2024-03-15 00:00:00 ┆ 95.35    ┆ 83.39    ┆ 94.08    ┆ 89.76    │\n",
       "│ LTC    ┆ 2024-03-16 00:00:00 ┆ 90.71    ┆ 82.26    ┆ 89.76    ┆ 84.07    │\n",
       "│ LTC    ┆ 2024-03-17 00:00:00 ┆ 86.74    ┆ 80.67    ┆ 84.07    ┆ 86.03    │\n",
       "└────────┴─────────────────────┴──────────┴──────────┴──────────┴──────────┘"
      ]
     },
     "execution_count": 20,
     "metadata": {},
     "output_type": "execute_result"
    }
   ],
   "source": [
    "df_fixed"
   ]
  },
  {
   "cell_type": "code",
   "execution_count": null,
   "id": "4792d340-0f27-4c01-95a1-2cd7541c1642",
   "metadata": {},
   "outputs": [],
   "source": []
  }
 ],
 "metadata": {
  "kernelspec": {
   "display_name": "Python [conda env:data_science]",
   "language": "python",
   "name": "conda-env-data_science-py"
  },
  "language_info": {
   "codemirror_mode": {
    "name": "ipython",
    "version": 3
   },
   "file_extension": ".py",
   "mimetype": "text/x-python",
   "name": "python",
   "nbconvert_exporter": "python",
   "pygments_lexer": "ipython3",
   "version": "3.9.12"
  }
 },
 "nbformat": 4,
 "nbformat_minor": 5
}
