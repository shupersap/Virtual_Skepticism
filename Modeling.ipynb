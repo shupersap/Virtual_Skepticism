{
 "cells": [
  {
   "cell_type": "code",
   "execution_count": 1,
   "id": "693f1d2d-7805-4850-aec3-ffef6b4e9985",
   "metadata": {
    "tags": []
   },
   "outputs": [],
   "source": [
    "import pandas as pd\n",
    "from matplotlib import pyplot\n",
    "import numpy as np\n",
    "from arch import arch_model\n",
    "from statsmodels.graphics.tsaplots import plot_acf, plot_pacf"
   ]
  },
  {
   "cell_type": "code",
   "execution_count": 2,
   "id": "cbec979b-74df-4a69-9317-ae301881065e",
   "metadata": {
    "tags": []
   },
   "outputs": [],
   "source": [
    "cleaned=pd.read_parquet(\"collated_crypto.parquet\")"
   ]
  },
  {
   "cell_type": "code",
   "execution_count": 3,
   "id": "af50485f-916d-419d-8d22-3606e994ba34",
   "metadata": {},
   "outputs": [
    {
     "data": {
      "text/html": [
       "<div>\n",
       "<style scoped>\n",
       "    .dataframe tbody tr th:only-of-type {\n",
       "        vertical-align: middle;\n",
       "    }\n",
       "\n",
       "    .dataframe tbody tr th {\n",
       "        vertical-align: top;\n",
       "    }\n",
       "\n",
       "    .dataframe thead th {\n",
       "        text-align: right;\n",
       "    }\n",
       "</style>\n",
       "<table border=\"1\" class=\"dataframe\">\n",
       "  <thead>\n",
       "    <tr style=\"text-align: right;\">\n",
       "      <th></th>\n",
       "      <th>symbol</th>\n",
       "      <th>time</th>\n",
       "      <th>high</th>\n",
       "      <th>low</th>\n",
       "      <th>open</th>\n",
       "      <th>close</th>\n",
       "    </tr>\n",
       "  </thead>\n",
       "  <tbody>\n",
       "    <tr>\n",
       "      <th>0</th>\n",
       "      <td>BTC</td>\n",
       "      <td>2023-04-17</td>\n",
       "      <td>30331.32</td>\n",
       "      <td>29265.91</td>\n",
       "      <td>30322.37</td>\n",
       "      <td>29446.34</td>\n",
       "    </tr>\n",
       "    <tr>\n",
       "      <th>1</th>\n",
       "      <td>BTC</td>\n",
       "      <td>2023-04-18</td>\n",
       "      <td>30485.26</td>\n",
       "      <td>29135.27</td>\n",
       "      <td>29446.34</td>\n",
       "      <td>30395.53</td>\n",
       "    </tr>\n",
       "    <tr>\n",
       "      <th>2</th>\n",
       "      <td>BTC</td>\n",
       "      <td>2023-04-19</td>\n",
       "      <td>30419.74</td>\n",
       "      <td>28615.79</td>\n",
       "      <td>30395.53</td>\n",
       "      <td>28821.91</td>\n",
       "    </tr>\n",
       "    <tr>\n",
       "      <th>3</th>\n",
       "      <td>BTC</td>\n",
       "      <td>2023-04-20</td>\n",
       "      <td>29094.98</td>\n",
       "      <td>28007.09</td>\n",
       "      <td>28821.91</td>\n",
       "      <td>28248.11</td>\n",
       "    </tr>\n",
       "    <tr>\n",
       "      <th>4</th>\n",
       "      <td>BTC</td>\n",
       "      <td>2023-04-21</td>\n",
       "      <td>28365.20</td>\n",
       "      <td>27173.44</td>\n",
       "      <td>28248.11</td>\n",
       "      <td>27261.17</td>\n",
       "    </tr>\n",
       "    <tr>\n",
       "      <th>...</th>\n",
       "      <td>...</td>\n",
       "      <td>...</td>\n",
       "      <td>...</td>\n",
       "      <td>...</td>\n",
       "      <td>...</td>\n",
       "      <td>...</td>\n",
       "    </tr>\n",
       "    <tr>\n",
       "      <th>1093</th>\n",
       "      <td>LTC</td>\n",
       "      <td>2024-04-12</td>\n",
       "      <td>99.51</td>\n",
       "      <td>80.31</td>\n",
       "      <td>98.75</td>\n",
       "      <td>86.16</td>\n",
       "    </tr>\n",
       "    <tr>\n",
       "      <th>1094</th>\n",
       "      <td>LTC</td>\n",
       "      <td>2024-04-13</td>\n",
       "      <td>86.60</td>\n",
       "      <td>70.87</td>\n",
       "      <td>86.16</td>\n",
       "      <td>77.50</td>\n",
       "    </tr>\n",
       "    <tr>\n",
       "      <th>1095</th>\n",
       "      <td>LTC</td>\n",
       "      <td>2024-04-14</td>\n",
       "      <td>80.44</td>\n",
       "      <td>73.93</td>\n",
       "      <td>77.50</td>\n",
       "      <td>79.82</td>\n",
       "    </tr>\n",
       "    <tr>\n",
       "      <th>1096</th>\n",
       "      <td>LTC</td>\n",
       "      <td>2024-04-15</td>\n",
       "      <td>82.87</td>\n",
       "      <td>75.70</td>\n",
       "      <td>79.82</td>\n",
       "      <td>78.11</td>\n",
       "    </tr>\n",
       "    <tr>\n",
       "      <th>1097</th>\n",
       "      <td>LTC</td>\n",
       "      <td>2024-04-16</td>\n",
       "      <td>78.27</td>\n",
       "      <td>77.30</td>\n",
       "      <td>78.11</td>\n",
       "      <td>77.35</td>\n",
       "    </tr>\n",
       "  </tbody>\n",
       "</table>\n",
       "<p>1098 rows × 6 columns</p>\n",
       "</div>"
      ],
      "text/plain": [
       "     symbol       time      high       low      open     close\n",
       "0       BTC 2023-04-17  30331.32  29265.91  30322.37  29446.34\n",
       "1       BTC 2023-04-18  30485.26  29135.27  29446.34  30395.53\n",
       "2       BTC 2023-04-19  30419.74  28615.79  30395.53  28821.91\n",
       "3       BTC 2023-04-20  29094.98  28007.09  28821.91  28248.11\n",
       "4       BTC 2023-04-21  28365.20  27173.44  28248.11  27261.17\n",
       "...     ...        ...       ...       ...       ...       ...\n",
       "1093    LTC 2024-04-12     99.51     80.31     98.75     86.16\n",
       "1094    LTC 2024-04-13     86.60     70.87     86.16     77.50\n",
       "1095    LTC 2024-04-14     80.44     73.93     77.50     79.82\n",
       "1096    LTC 2024-04-15     82.87     75.70     79.82     78.11\n",
       "1097    LTC 2024-04-16     78.27     77.30     78.11     77.35\n",
       "\n",
       "[1098 rows x 6 columns]"
      ]
     },
     "execution_count": 3,
     "metadata": {},
     "output_type": "execute_result"
    }
   ],
   "source": [
    "cleaned"
   ]
  },
  {
   "cell_type": "code",
   "execution_count": 4,
   "id": "ef5c99c0-06a1-4dee-93b4-860459c4c44e",
   "metadata": {},
   "outputs": [],
   "source": [
    "new = cleaned[cleaned[\"symbol\"] == \"BTC\"]"
   ]
  },
  {
   "cell_type": "code",
   "execution_count": 5,
   "id": "1efc7705-5f1f-4a97-89ca-5106e693939c",
   "metadata": {},
   "outputs": [],
   "source": [
    "x_value=new[\"time\"]\n",
    "y_value=new[\"close\"]"
   ]
  },
  {
   "cell_type": "code",
   "execution_count": 6,
   "id": "5f0ee66b-c189-403c-8c89-e727195bd1e1",
   "metadata": {},
   "outputs": [
    {
     "data": {
      "image/png": "[encoded data removed]",
      "text/plain": [
       "<Figure size 432x288 with 1 Axes>"
      ]
     },
     "metadata": {
      "needs_background": "light"
     },
     "output_type": "display_data"
    }
   ],
   "source": [
    "plot=pyplot.plot(x_value,y_value)"
   ]
  },
  {
   "cell_type": "code",
   "execution_count": 7,
   "id": "4132e9c8-ce8b-4637-93e7-b0f7c6f1af7d",
   "metadata": {},
   "outputs": [],
   "source": [
    "returns = np.log(y_value / y_value.shift(1))\n",
    "returns = returns.fillna(0)"
   ]
  },
  {
   "cell_type": "code",
   "execution_count": 8,
   "id": "6ad6262a-df2d-427e-8b00-78949296de56",
   "metadata": {},
   "outputs": [
    {
     "name": "stderr",
     "output_type": "stream",
     "text": [
      "C:\\Users\\shupe\\AppData\\Local\\Temp\\ipykernel_12836\\2739929621.py:1: SettingWithCopyWarning: \n",
      "A value is trying to be set on a copy of a slice from a DataFrame.\n",
      "Try using .loc[row_indexer,col_indexer] = value instead\n",
      "\n",
      "See the caveats in the documentation: https://pandas.pydata.org/pandas-docs/stable/user_guide/indexing.html#returning-a-view-versus-a-copy\n",
      "  new[\"returns\"]=returns\n"
     ]
    }
   ],
   "source": [
    "new[\"returns\"]=returns"
   ]
  },
  {
   "cell_type": "code",
   "execution_count": 9,
   "id": "ee3d9969-3a9d-4788-a30a-bb49d371e29f",
   "metadata": {},
   "outputs": [
    {
     "name": "stderr",
     "output_type": "stream",
     "text": [
      "C:\\Users\\shupe\\AppData\\Local\\Temp\\ipykernel_12836\\1288950371.py:1: SettingWithCopyWarning: \n",
      "A value is trying to be set on a copy of a slice from a DataFrame.\n",
      "Try using .loc[row_indexer,col_indexer] = value instead\n",
      "\n",
      "See the caveats in the documentation: https://pandas.pydata.org/pandas-docs/stable/user_guide/indexing.html#returning-a-view-versus-a-copy\n",
      "  new[\"main_volatility\"]=new[\"returns\"].rolling(window=365,min_periods=1).std()*np.sqrt(365)\n"
     ]
    }
   ],
   "source": [
    "new[\"main_volatility\"]=new[\"returns\"].rolling(window=365,min_periods=1).std()*np.sqrt(365)"
   ]
  },
  {
   "cell_type": "code",
   "execution_count": 10,
   "id": "a5ee741a-fd0b-48e2-9fed-47ce978ee7a6",
   "metadata": {},
   "outputs": [
    {
     "name": "stderr",
     "output_type": "stream",
     "text": [
      "C:\\Users\\shupe\\AppData\\Local\\Temp\\ipykernel_12836\\717226156.py:1: SettingWithCopyWarning: \n",
      "A value is trying to be set on a copy of a slice from a DataFrame.\n",
      "Try using .loc[row_indexer,col_indexer] = value instead\n",
      "\n",
      "See the caveats in the documentation: https://pandas.pydata.org/pandas-docs/stable/user_guide/indexing.html#returning-a-view-versus-a-copy\n",
      "  new[\"ewm_volatility\"] = new[\"returns\"].ewm(span=365).std()*np.sqrt(365)\n"
     ]
    }
   ],
   "source": [
    "new[\"ewm_volatility\"] = new[\"returns\"].ewm(span=365).std()*np.sqrt(365)"
   ]
  },
  {
   "cell_type": "code",
   "execution_count": 11,
   "id": "1a1bca09-12e4-4ac3-955c-38073ba36c55",
   "metadata": {},
   "outputs": [],
   "source": [
    "new=new.fillna(0)"
   ]
  },
  {
   "cell_type": "code",
   "execution_count": 12,
   "id": "f0d858a1-5ebf-48dc-a73c-9caccb34fc9c",
   "metadata": {},
   "outputs": [
    {
     "data": {
      "image/png": "[encoded data removed]",
      "text/plain": [
       "<Figure size 432x288 with 1 Axes>"
      ]
     },
     "metadata": {
      "needs_background": "light"
     },
     "output_type": "display_data"
    }
   ],
   "source": [
    "plot=pyplot.plot(x_value,new[\"ewm_volatility\"])"
   ]
  },
  {
   "cell_type": "code",
   "execution_count": 13,
   "id": "03da378f-80b1-4aaa-9d13-7421f8e08e9c",
   "metadata": {},
   "outputs": [
    {
     "data": {
      "image/png": "[encoded data removed]",
      "text/plain": [
       "<Figure size 432x288 with 1 Axes>"
      ]
     },
     "metadata": {
      "needs_background": "light"
     },
     "output_type": "display_data"
    }
   ],
   "source": [
    "plot=pyplot.plot(x_value,new[\"main_volatility\"])"
   ]
  },
  {
   "cell_type": "code",
   "execution_count": 14,
   "id": "ce399e76-e2b0-42f4-96a8-b93bab274013",
   "metadata": {},
   "outputs": [
    {
     "data": {
      "text/html": [
       "<div>\n",
       "<style scoped>\n",
       "    .dataframe tbody tr th:only-of-type {\n",
       "        vertical-align: middle;\n",
       "    }\n",
       "\n",
       "    .dataframe tbody tr th {\n",
       "        vertical-align: top;\n",
       "    }\n",
       "\n",
       "    .dataframe thead th {\n",
       "        text-align: right;\n",
       "    }\n",
       "</style>\n",
       "<table border=\"1\" class=\"dataframe\">\n",
       "  <thead>\n",
       "    <tr style=\"text-align: right;\">\n",
       "      <th></th>\n",
       "      <th>symbol</th>\n",
       "      <th>time</th>\n",
       "      <th>high</th>\n",
       "      <th>low</th>\n",
       "      <th>open</th>\n",
       "      <th>close</th>\n",
       "      <th>returns</th>\n",
       "      <th>main_volatility</th>\n",
       "      <th>ewm_volatility</th>\n",
       "    </tr>\n",
       "  </thead>\n",
       "  <tbody>\n",
       "    <tr>\n",
       "      <th>0</th>\n",
       "      <td>BTC</td>\n",
       "      <td>2023-04-17</td>\n",
       "      <td>30331.32</td>\n",
       "      <td>29265.91</td>\n",
       "      <td>30322.37</td>\n",
       "      <td>29446.34</td>\n",
       "      <td>0.000000</td>\n",
       "      <td>0.000000</td>\n",
       "      <td>0.000000</td>\n",
       "    </tr>\n",
       "    <tr>\n",
       "      <th>1</th>\n",
       "      <td>BTC</td>\n",
       "      <td>2023-04-18</td>\n",
       "      <td>30485.26</td>\n",
       "      <td>29135.27</td>\n",
       "      <td>29446.34</td>\n",
       "      <td>30395.53</td>\n",
       "      <td>0.031726</td>\n",
       "      <td>0.428594</td>\n",
       "      <td>0.428594</td>\n",
       "    </tr>\n",
       "    <tr>\n",
       "      <th>2</th>\n",
       "      <td>BTC</td>\n",
       "      <td>2023-04-19</td>\n",
       "      <td>30419.74</td>\n",
       "      <td>28615.79</td>\n",
       "      <td>30395.53</td>\n",
       "      <td>28821.91</td>\n",
       "      <td>-0.053160</td>\n",
       "      <td>0.819440</td>\n",
       "      <td>0.820700</td>\n",
       "    </tr>\n",
       "    <tr>\n",
       "      <th>3</th>\n",
       "      <td>BTC</td>\n",
       "      <td>2023-04-20</td>\n",
       "      <td>29094.98</td>\n",
       "      <td>28007.09</td>\n",
       "      <td>28821.91</td>\n",
       "      <td>28248.11</td>\n",
       "      <td>-0.020109</td>\n",
       "      <td>0.680435</td>\n",
       "      <td>0.680435</td>\n",
       "    </tr>\n",
       "    <tr>\n",
       "      <th>4</th>\n",
       "      <td>BTC</td>\n",
       "      <td>2023-04-21</td>\n",
       "      <td>28365.20</td>\n",
       "      <td>27173.44</td>\n",
       "      <td>28248.11</td>\n",
       "      <td>27261.17</td>\n",
       "      <td>-0.035563</td>\n",
       "      <td>0.627311</td>\n",
       "      <td>0.626561</td>\n",
       "    </tr>\n",
       "    <tr>\n",
       "      <th>...</th>\n",
       "      <td>...</td>\n",
       "      <td>...</td>\n",
       "      <td>...</td>\n",
       "      <td>...</td>\n",
       "      <td>...</td>\n",
       "      <td>...</td>\n",
       "      <td>...</td>\n",
       "      <td>...</td>\n",
       "      <td>...</td>\n",
       "    </tr>\n",
       "    <tr>\n",
       "      <th>361</th>\n",
       "      <td>BTC</td>\n",
       "      <td>2024-04-12</td>\n",
       "      <td>71246.69</td>\n",
       "      <td>65257.57</td>\n",
       "      <td>70026.43</td>\n",
       "      <td>67158.30</td>\n",
       "      <td>-0.041820</td>\n",
       "      <td>0.462919</td>\n",
       "      <td>0.517104</td>\n",
       "    </tr>\n",
       "    <tr>\n",
       "      <th>362</th>\n",
       "      <td>BTC</td>\n",
       "      <td>2024-04-13</td>\n",
       "      <td>68422.60</td>\n",
       "      <td>61079.47</td>\n",
       "      <td>67158.30</td>\n",
       "      <td>64021.36</td>\n",
       "      <td>-0.047836</td>\n",
       "      <td>0.465002</td>\n",
       "      <td>0.521265</td>\n",
       "    </tr>\n",
       "    <tr>\n",
       "      <th>363</th>\n",
       "      <td>BTC</td>\n",
       "      <td>2024-04-14</td>\n",
       "      <td>65874.88</td>\n",
       "      <td>62229.80</td>\n",
       "      <td>64021.36</td>\n",
       "      <td>65765.64</td>\n",
       "      <td>0.026881</td>\n",
       "      <td>0.465022</td>\n",
       "      <td>0.520882</td>\n",
       "    </tr>\n",
       "    <tr>\n",
       "      <th>364</th>\n",
       "      <td>BTC</td>\n",
       "      <td>2024-04-15</td>\n",
       "      <td>66902.94</td>\n",
       "      <td>62328.07</td>\n",
       "      <td>65765.64</td>\n",
       "      <td>63447.27</td>\n",
       "      <td>-0.035888</td>\n",
       "      <td>0.465943</td>\n",
       "      <td>0.522586</td>\n",
       "    </tr>\n",
       "    <tr>\n",
       "      <th>365</th>\n",
       "      <td>BTC</td>\n",
       "      <td>2024-04-16</td>\n",
       "      <td>63728.98</td>\n",
       "      <td>63081.16</td>\n",
       "      <td>63447.27</td>\n",
       "      <td>63086.84</td>\n",
       "      <td>-0.005697</td>\n",
       "      <td>0.466003</td>\n",
       "      <td>0.521092</td>\n",
       "    </tr>\n",
       "  </tbody>\n",
       "</table>\n",
       "<p>366 rows × 9 columns</p>\n",
       "</div>"
      ],
      "text/plain": [
       "    symbol       time      high       low      open     close   returns  \\\n",
       "0      BTC 2023-04-17  30331.32  29265.91  30322.37  29446.34  0.000000   \n",
       "1      BTC 2023-04-18  30485.26  29135.27  29446.34  30395.53  0.031726   \n",
       "2      BTC 2023-04-19  30419.74  28615.79  30395.53  28821.91 -0.053160   \n",
       "3      BTC 2023-04-20  29094.98  28007.09  28821.91  28248.11 -0.020109   \n",
       "4      BTC 2023-04-21  28365.20  27173.44  28248.11  27261.17 -0.035563   \n",
       "..     ...        ...       ...       ...       ...       ...       ...   \n",
       "361    BTC 2024-04-12  71246.69  65257.57  70026.43  67158.30 -0.041820   \n",
       "362    BTC 2024-04-13  68422.60  61079.47  67158.30  64021.36 -0.047836   \n",
       "363    BTC 2024-04-14  65874.88  62229.80  64021.36  65765.64  0.026881   \n",
       "364    BTC 2024-04-15  66902.94  62328.07  65765.64  63447.27 -0.035888   \n",
       "365    BTC 2024-04-16  63728.98  63081.16  63447.27  63086.84 -0.005697   \n",
       "\n",
       "     main_volatility  ewm_volatility  \n",
       "0           0.000000        0.000000  \n",
       "1           0.428594        0.428594  \n",
       "2           0.819440        0.820700  \n",
       "3           0.680435        0.680435  \n",
       "4           0.627311        0.626561  \n",
       "..               ...             ...  \n",
       "361         0.462919        0.517104  \n",
       "362         0.465002        0.521265  \n",
       "363         0.465022        0.520882  \n",
       "364         0.465943        0.522586  \n",
       "365         0.466003        0.521092  \n",
       "\n",
       "[366 rows x 9 columns]"
      ]
     },
     "execution_count": 14,
     "metadata": {},
     "output_type": "execute_result"
    }
   ],
   "source": [
    "new"
   ]
  },
  {
   "cell_type": "code",
   "execution_count": 33,
   "id": "96ce3082-e402-4805-99aa-6eab81938e24",
   "metadata": {},
   "outputs": [
    {
     "data": {
      "image/png": "[encoded data removed]",
      "text/plain": [
       "<Figure size 432x288 with 1 Axes>"
      ]
     },
     "metadata": {
      "needs_background": "light"
     },
     "output_type": "display_data"
    }
   ],
   "source": [
    "plot_acf(new[\"returns\"],lags=365)\n",
    "pyplot.show()"
   ]
  },
  {
   "cell_type": "code",
   "execution_count": 34,
   "id": "381dbd8c-231d-4968-9532-2630ff0d07e4",
   "metadata": {},
   "outputs": [
    {
     "name": "stderr",
     "output_type": "stream",
     "text": [
      "C:\\Users\\shupe\\anaconda3\\lib\\site-packages\\statsmodels\\graphics\\tsaplots.py:348: FutureWarning: The default method 'yw' can produce PACF values outside of the [-1,1] interval. After 0.13, the default will change tounadjusted Yule-Walker ('ywm'). You can use this method now by setting method='ywm'.\n",
      "  warnings.warn(\n"
     ]
    },
    {
     "data": {
      "image/png": "[encoded data removed]",
      "text/plain": [
       "<Figure size 432x288 with 1 Axes>"
      ]
     },
     "metadata": {
      "needs_background": "light"
     },
     "output_type": "display_data"
    }
   ],
   "source": [
    "plot_pacf(new[\"returns\"],lags=100)\n",
    "pyplot.show()"
   ]
  },
  {
   "cell_type": "code",
   "execution_count": 36,
   "id": "b5662716-70b3-4b53-bfac-25a496c18408",
   "metadata": {},
   "outputs": [],
   "source": [
    "squared_data = [x**2 for x in new[\"returns\"]]\n",
    "squared_array = np.array(squared_data)"
   ]
  },
  {
   "cell_type": "code",
   "execution_count": 39,
   "id": "e53e556e-45fa-4574-869f-a9f9da013349",
   "metadata": {},
   "outputs": [
    {
     "data": {
      "image/png": "[encoded data removed]",
      "text/plain": [
       "<Figure size 432x288 with 1 Axes>"
      ]
     },
     "metadata": {
      "needs_background": "light"
     },
     "output_type": "display_data"
    }
   ],
   "source": [
    "plot_acf(squared_array,lags=25)\n",
    "pyplot.show()"
   ]
  },
  {
   "cell_type": "code",
   "execution_count": 22,
   "id": "e483b583-b277-4848-9d7b-7d8ae4d8420f",
   "metadata": {},
   "outputs": [],
   "source": [
    "n_test=round(len(squared_array)*.10)"
   ]
  },
  {
   "cell_type": "code",
   "execution_count": 40,
   "id": "cde8e2ba-186b-4e0a-80a0-475476db540b",
   "metadata": {},
   "outputs": [],
   "source": [
    "train, test = new[\"returns\"][:-n_test], new[\"returns\"][-n_test:]"
   ]
  },
  {
   "cell_type": "code",
   "execution_count": 41,
   "id": "5a8f9ecb-8ab7-4dbc-a956-8fb49a29e876",
   "metadata": {},
   "outputs": [
    {
     "data": {
      "text/plain": [
       "0      0.000000\n",
       "1      0.031726\n",
       "2     -0.053160\n",
       "3     -0.020109\n",
       "4     -0.035563\n",
       "         ...   \n",
       "324    0.035587\n",
       "325    0.012215\n",
       "326    0.019842\n",
       "327    0.002588\n",
       "328    0.008398\n",
       "Name: returns, Length: 329, dtype: float64"
      ]
     },
     "execution_count": 41,
     "metadata": {},
     "output_type": "execute_result"
    }
   ],
   "source": [
    "train"
   ]
  },
  {
   "cell_type": "code",
   "execution_count": 42,
   "id": "9e298a12-541f-4a3b-95fc-5a42b635a7e2",
   "metadata": {},
   "outputs": [
    {
     "data": {
      "text/plain": [
       "329    0.043549\n",
       "330   -0.009006\n",
       "331    0.023085\n",
       "332   -0.024241\n",
       "333   -0.026546\n",
       "334   -0.062901\n",
       "335    0.046465\n",
       "336   -0.011105\n",
       "337   -0.087839\n",
       "338    0.091499\n",
       "339   -0.035460\n",
       "340   -0.025927\n",
       "341    0.002933\n",
       "342    0.048845\n",
       "343    0.039158\n",
       "344    0.001401\n",
       "345   -0.007972\n",
       "346    0.019328\n",
       "347   -0.012593\n",
       "348   -0.003924\n",
       "349    0.023882\n",
       "350   -0.023073\n",
       "351   -0.062461\n",
       "352    0.007901\n",
       "353    0.037737\n",
       "354   -0.009726\n",
       "355    0.015402\n",
       "356    0.006415\n",
       "357    0.032233\n",
       "358   -0.035524\n",
       "359    0.021453\n",
       "360   -0.008562\n",
       "361   -0.041820\n",
       "362   -0.047836\n",
       "363    0.026881\n",
       "364   -0.035888\n",
       "365   -0.005697\n",
       "Name: returns, dtype: float64"
      ]
     },
     "execution_count": 42,
     "metadata": {},
     "output_type": "execute_result"
    }
   ],
   "source": [
    "test"
   ]
  },
  {
   "cell_type": "code",
   "execution_count": 52,
   "id": "7c8215f2-5696-49af-b4fd-7fd9090e2d6f",
   "metadata": {},
   "outputs": [],
   "source": [
    "model = arch_model(train, mean='Zero', vol='ARCH', p=6)"
   ]
  },
  {
   "cell_type": "code",
   "execution_count": 53,
   "id": "8a2ef243-ced3-45c9-9670-e77a8b0528e0",
   "metadata": {},
   "outputs": [
    {
     "name": "stdout",
     "output_type": "stream",
     "text": [
      "Iteration:      1,   Func. Count:     10,   Neg. LLF: 38194335.61945469\n",
      "Iteration:      2,   Func. Count:     25,   Neg. LLF: 43580.93596727947\n",
      "Iteration:      3,   Func. Count:     35,   Neg. LLF: -537.2837783473353\n",
      "Iteration:      4,   Func. Count:     47,   Neg. LLF: 719.3055704824275\n",
      "Iteration:      5,   Func. Count:     57,   Neg. LLF: -652.4897243921941\n",
      "Iteration:      6,   Func. Count:     68,   Neg. LLF: 1882.08177758531\n",
      "Iteration:      7,   Func. Count:     79,   Neg. LLF: -784.0677441670696\n",
      "Iteration:      8,   Func. Count:     89,   Neg. LLF: -785.6079285177123\n",
      "Iteration:      9,   Func. Count:     99,   Neg. LLF: -778.3379666817827\n",
      "Iteration:     10,   Func. Count:    109,   Neg. LLF: -787.1217004275987\n",
      "Iteration:     11,   Func. Count:    119,   Neg. LLF: -786.5291936761873\n",
      "Iteration:     12,   Func. Count:    129,   Neg. LLF: -787.4532796540943\n",
      "Iteration:     13,   Func. Count:    139,   Neg. LLF: -787.6989226374815\n",
      "Iteration:     14,   Func. Count:    148,   Neg. LLF: -787.6990733488651\n",
      "Iteration:     15,   Func. Count:    157,   Neg. LLF: -787.6990805194395\n",
      "Iteration:     16,   Func. Count:    165,   Neg. LLF: -787.6990805194398\n",
      "Optimization terminated successfully    (Exit mode 0)\n",
      "            Current function value: -787.6990805194395\n",
      "            Iterations: 16\n",
      "            Function evaluations: 165\n",
      "            Gradient evaluations: 16\n"
     ]
    },
    {
     "name": "stderr",
     "output_type": "stream",
     "text": [
      "C:\\Users\\shupe\\anaconda3\\lib\\site-packages\\arch\\univariate\\base.py:311: DataScaleWarning: y is poorly scaled, which may affect convergence of the optimizer when\n",
      "estimating the model parameters. The scale of y is 0.0005093. Parameter\n",
      "estimation work better when this value is between 1 and 1000. The recommended\n",
      "rescaling is 100 * y.\n",
      "\n",
      "This warning can be disabled by either rescaling y before initializing the\n",
      "model or by setting rescale=False.\n",
      "\n",
      "  warnings.warn(\n"
     ]
    }
   ],
   "source": [
    "model_fit = model.fit()"
   ]
  },
  {
   "cell_type": "code",
   "execution_count": 54,
   "id": "d7c9e75b-eac8-4f7e-be19-c5d6c4285dfc",
   "metadata": {},
   "outputs": [],
   "source": [
    "yhat = model_fit.forecast(horizon=n_test)"
   ]
  },
  {
   "cell_type": "code",
   "execution_count": 55,
   "id": "140e9c2e-dde1-483d-b4da-68b328c8a68c",
   "metadata": {},
   "outputs": [
    {
     "data": {
      "image/png": "[encoded data removed]",
      "text/plain": [
       "<Figure size 432x288 with 1 Axes>"
      ]
     },
     "metadata": {
      "needs_background": "light"
     },
     "output_type": "display_data"
    }
   ],
   "source": [
    "var = [i*0.01 for i in range(0,100)]\n",
    "pyplot.plot(var[-n_test:])\n",
    "pyplot.plot(yhat.variance.values[-1, :])\n",
    "pyplot.show()"
   ]
  },
  {
   "cell_type": "code",
   "execution_count": null,
   "id": "dbc70a0c-0c21-42a2-b52b-7ab37991ab0c",
   "metadata": {},
   "outputs": [],
   "source": []
  }
 ],
 "metadata": {
  "kernelspec": {
   "display_name": "Python 3 (ipykernel)",
   "language": "python",
   "name": "python3"
  },
  "language_info": {
   "codemirror_mode": {
    "name": "ipython",
    "version": 3
   },
   "file_extension": ".py",
   "mimetype": "text/x-python",
   "name": "python",
   "nbconvert_exporter": "python",
   "pygments_lexer": "ipython3",
   "version": "3.9.12"
  }
 },
 "nbformat": 4,
 "nbformat_minor": 5
}
