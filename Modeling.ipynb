{
 "cells": [
  {
   "cell_type": "code",
   "execution_count": 1,
   "id": "693f1d2d-7805-4850-aec3-ffef6b4e9985",
   "metadata": {
    "tags": []
   },
   "outputs": [],
   "source": [
    "import pandas as pd\n",
    "from matplotlib import pyplot\n",
    "import numpy as np\n",
    "from arch import arch_model\n",
    "from statsmodels.graphics.tsaplots import plot_acf, plot_pacf"
   ]
  },
  {
   "cell_type": "code",
   "execution_count": 2,
   "id": "cbec979b-74df-4a69-9317-ae301881065e",
   "metadata": {
    "tags": []
   },
   "outputs": [],
   "source": [
    "cleaned=pd.read_parquet(\"collated_crypto.parquet\")"
   ]
  },
  {
   "cell_type": "code",
   "execution_count": 3,
   "id": "af50485f-916d-419d-8d22-3606e994ba34",
   "metadata": {},
   "outputs": [
    {
     "data": {
      "text/html": [
       "<div>\n",
       "<style scoped>\n",
       "    .dataframe tbody tr th:only-of-type {\n",
       "        vertical-align: middle;\n",
       "    }\n",
       "\n",
       "    .dataframe tbody tr th {\n",
       "        vertical-align: top;\n",
       "    }\n",
       "\n",
       "    .dataframe thead th {\n",
       "        text-align: right;\n",
       "    }\n",
       "</style>\n",
       "<table border=\"1\" class=\"dataframe\">\n",
       "  <thead>\n",
       "    <tr style=\"text-align: right;\">\n",
       "      <th></th>\n",
       "      <th>symbol</th>\n",
       "      <th>time</th>\n",
       "      <th>high</th>\n",
       "      <th>low</th>\n",
       "      <th>open</th>\n",
       "      <th>close</th>\n",
       "    </tr>\n",
       "  </thead>\n",
       "  <tbody>\n",
       "    <tr>\n",
       "      <th>0</th>\n",
       "      <td>BTC</td>\n",
       "      <td>2023-04-17</td>\n",
       "      <td>30331.32</td>\n",
       "      <td>29265.91</td>\n",
       "      <td>30322.37</td>\n",
       "      <td>29446.34</td>\n",
       "    </tr>\n",
       "    <tr>\n",
       "      <th>1</th>\n",
       "      <td>BTC</td>\n",
       "      <td>2023-04-18</td>\n",
       "      <td>30485.26</td>\n",
       "      <td>29135.27</td>\n",
       "      <td>29446.34</td>\n",
       "      <td>30395.53</td>\n",
       "    </tr>\n",
       "    <tr>\n",
       "      <th>2</th>\n",
       "      <td>BTC</td>\n",
       "      <td>2023-04-19</td>\n",
       "      <td>30419.74</td>\n",
       "      <td>28615.79</td>\n",
       "      <td>30395.53</td>\n",
       "      <td>28821.91</td>\n",
       "    </tr>\n",
       "    <tr>\n",
       "      <th>3</th>\n",
       "      <td>BTC</td>\n",
       "      <td>2023-04-20</td>\n",
       "      <td>29094.98</td>\n",
       "      <td>28007.09</td>\n",
       "      <td>28821.91</td>\n",
       "      <td>28248.11</td>\n",
       "    </tr>\n",
       "    <tr>\n",
       "      <th>4</th>\n",
       "      <td>BTC</td>\n",
       "      <td>2023-04-21</td>\n",
       "      <td>28365.20</td>\n",
       "      <td>27173.44</td>\n",
       "      <td>28248.11</td>\n",
       "      <td>27261.17</td>\n",
       "    </tr>\n",
       "    <tr>\n",
       "      <th>...</th>\n",
       "      <td>...</td>\n",
       "      <td>...</td>\n",
       "      <td>...</td>\n",
       "      <td>...</td>\n",
       "      <td>...</td>\n",
       "      <td>...</td>\n",
       "    </tr>\n",
       "    <tr>\n",
       "      <th>1093</th>\n",
       "      <td>LTC</td>\n",
       "      <td>2024-04-12</td>\n",
       "      <td>99.51</td>\n",
       "      <td>80.31</td>\n",
       "      <td>98.75</td>\n",
       "      <td>86.16</td>\n",
       "    </tr>\n",
       "    <tr>\n",
       "      <th>1094</th>\n",
       "      <td>LTC</td>\n",
       "      <td>2024-04-13</td>\n",
       "      <td>86.60</td>\n",
       "      <td>70.87</td>\n",
       "      <td>86.16</td>\n",
       "      <td>77.50</td>\n",
       "    </tr>\n",
       "    <tr>\n",
       "      <th>1095</th>\n",
       "      <td>LTC</td>\n",
       "      <td>2024-04-14</td>\n",
       "      <td>80.44</td>\n",
       "      <td>73.93</td>\n",
       "      <td>77.50</td>\n",
       "      <td>79.82</td>\n",
       "    </tr>\n",
       "    <tr>\n",
       "      <th>1096</th>\n",
       "      <td>LTC</td>\n",
       "      <td>2024-04-15</td>\n",
       "      <td>82.87</td>\n",
       "      <td>75.70</td>\n",
       "      <td>79.82</td>\n",
       "      <td>78.11</td>\n",
       "    </tr>\n",
       "    <tr>\n",
       "      <th>1097</th>\n",
       "      <td>LTC</td>\n",
       "      <td>2024-04-16</td>\n",
       "      <td>78.27</td>\n",
       "      <td>77.30</td>\n",
       "      <td>78.11</td>\n",
       "      <td>77.35</td>\n",
       "    </tr>\n",
       "  </tbody>\n",
       "</table>\n",
       "<p>1098 rows × 6 columns</p>\n",
       "</div>"
      ],
      "text/plain": [
       "     symbol       time      high       low      open     close\n",
       "0       BTC 2023-04-17  30331.32  29265.91  30322.37  29446.34\n",
       "1       BTC 2023-04-18  30485.26  29135.27  29446.34  30395.53\n",
       "2       BTC 2023-04-19  30419.74  28615.79  30395.53  28821.91\n",
       "3       BTC 2023-04-20  29094.98  28007.09  28821.91  28248.11\n",
       "4       BTC 2023-04-21  28365.20  27173.44  28248.11  27261.17\n",
       "...     ...        ...       ...       ...       ...       ...\n",
       "1093    LTC 2024-04-12     99.51     80.31     98.75     86.16\n",
       "1094    LTC 2024-04-13     86.60     70.87     86.16     77.50\n",
       "1095    LTC 2024-04-14     80.44     73.93     77.50     79.82\n",
       "1096    LTC 2024-04-15     82.87     75.70     79.82     78.11\n",
       "1097    LTC 2024-04-16     78.27     77.30     78.11     77.35\n",
       "\n",
       "[1098 rows x 6 columns]"
      ]
     },
     "execution_count": 3,
     "metadata": {},
     "output_type": "execute_result"
    }
   ],
   "source": [
    "cleaned"
   ]
  },
  {
   "cell_type": "code",
   "execution_count": 4,
   "id": "ef5c99c0-06a1-4dee-93b4-860459c4c44e",
   "metadata": {},
   "outputs": [],
   "source": [
    "new = cleaned[cleaned[\"symbol\"] == \"BTC\"]"
   ]
  },
  {
   "cell_type": "code",
   "execution_count": 5,
   "id": "1efc7705-5f1f-4a97-89ca-5106e693939c",
   "metadata": {},
   "outputs": [],
   "source": [
    "x_value=new[\"time\"]\n",
    "y_value=new[\"close\"]"
   ]
  },
  {
   "cell_type": "code",
   "execution_count": 6,
   "id": "5f0ee66b-c189-403c-8c89-e727195bd1e1",
   "metadata": {},
   "outputs": [
    {
     "data": {
      "image/png": "[encoded data removed]",
      "text/plain": [
       "<Figure size 432x288 with 1 Axes>"
      ]
     },
     "metadata": {
      "needs_background": "light"
     },
     "output_type": "display_data"
    }
   ],
   "source": [
    "plot=pyplot.plot(x_value,y_value)"
   ]
  },
  {
   "cell_type": "code",
   "execution_count": 7,
   "id": "4132e9c8-ce8b-4637-93e7-b0f7c6f1af7d",
   "metadata": {},
   "outputs": [],
   "source": [
    "returns = np.log(y_value / y_value.shift(1))\n",
    "returns = returns.fillna(0)"
   ]
  },
  {
   "cell_type": "code",
   "execution_count": 8,
   "id": "6ad6262a-df2d-427e-8b00-78949296de56",
   "metadata": {},
   "outputs": [
    {
     "name": "stderr",
     "output_type": "stream",
     "text": [
      "C:\\Users\\shupe\\AppData\\Local\\Temp\\ipykernel_2176\\2739929621.py:1: SettingWithCopyWarning: \n",
      "A value is trying to be set on a copy of a slice from a DataFrame.\n",
      "Try using .loc[row_indexer,col_indexer] = value instead\n",
      "\n",
      "See the caveats in the documentation: https://pandas.pydata.org/pandas-docs/stable/user_guide/indexing.html#returning-a-view-versus-a-copy\n",
      "  new[\"returns\"]=returns\n"
     ]
    }
   ],
   "source": [
    "new[\"returns\"]=returns"
   ]
  },
  {
   "cell_type": "code",
   "execution_count": 9,
   "id": "ee3d9969-3a9d-4788-a30a-bb49d371e29f",
   "metadata": {},
   "outputs": [
    {
     "name": "stderr",
     "output_type": "stream",
     "text": [
      "C:\\Users\\shupe\\AppData\\Local\\Temp\\ipykernel_2176\\1756527445.py:1: SettingWithCopyWarning: \n",
      "A value is trying to be set on a copy of a slice from a DataFrame.\n",
      "Try using .loc[row_indexer,col_indexer] = value instead\n",
      "\n",
      "See the caveats in the documentation: https://pandas.pydata.org/pandas-docs/stable/user_guide/indexing.html#returning-a-view-versus-a-copy\n",
      "  new[\"main_volatility\"]=new[\"returns\"].rolling(window=365,min_periods=1).std()\n"
     ]
    }
   ],
   "source": [
    "new[\"main_volatility\"]=new[\"returns\"].rolling(window=365,min_periods=1).std()"
   ]
  },
  {
   "cell_type": "code",
   "execution_count": 10,
   "id": "a5ee741a-fd0b-48e2-9fed-47ce978ee7a6",
   "metadata": {},
   "outputs": [
    {
     "name": "stderr",
     "output_type": "stream",
     "text": [
      "C:\\Users\\shupe\\AppData\\Local\\Temp\\ipykernel_2176\\1460377226.py:1: SettingWithCopyWarning: \n",
      "A value is trying to be set on a copy of a slice from a DataFrame.\n",
      "Try using .loc[row_indexer,col_indexer] = value instead\n",
      "\n",
      "See the caveats in the documentation: https://pandas.pydata.org/pandas-docs/stable/user_guide/indexing.html#returning-a-view-versus-a-copy\n",
      "  new[\"ewm_volatility\"] = new[\"returns\"].ewm(span=365).std()\n"
     ]
    }
   ],
   "source": [
    "new[\"ewm_volatility\"] = new[\"returns\"].ewm(span=365).std()"
   ]
  },
  {
   "cell_type": "code",
   "execution_count": 11,
   "id": "f0d858a1-5ebf-48dc-a73c-9caccb34fc9c",
   "metadata": {},
   "outputs": [
    {
     "data": {
      "image/png": "[encoded data removed]",
      "text/plain": [
       "<Figure size 432x288 with 1 Axes>"
      ]
     },
     "metadata": {
      "needs_background": "light"
     },
     "output_type": "display_data"
    }
   ],
   "source": [
    "plot=pyplot.plot(x_value,new[\"ewm_volatility\"])"
   ]
  },
  {
   "cell_type": "code",
   "execution_count": 12,
   "id": "03da378f-80b1-4aaa-9d13-7421f8e08e9c",
   "metadata": {},
   "outputs": [
    {
     "data": {
      "image/png": "[encoded data removed]",
      "text/plain": [
       "<Figure size 432x288 with 1 Axes>"
      ]
     },
     "metadata": {
      "needs_background": "light"
     },
     "output_type": "display_data"
    }
   ],
   "source": [
    "plot=pyplot.plot(x_value,new[\"main_volatility\"])"
   ]
  },
  {
   "cell_type": "code",
   "execution_count": null,
   "id": "2755042b-8891-4502-8b62-f2bac2997146",
   "metadata": {},
   "outputs": [],
   "source": []
  }
 ],
 "metadata": {
  "kernelspec": {
   "display_name": "Python 3 (ipykernel)",
   "language": "python",
   "name": "python3"
  },
  "language_info": {
   "codemirror_mode": {
    "name": "ipython",
    "version": 3
   },
   "file_extension": ".py",
   "mimetype": "text/x-python",
   "name": "python",
   "nbconvert_exporter": "python",
   "pygments_lexer": "ipython3",
   "version": "3.9.12"
  }
 },
 "nbformat": 4,
 "nbformat_minor": 5
}
