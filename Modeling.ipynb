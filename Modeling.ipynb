{
 "cells": [
  {
   "cell_type": "code",
   "execution_count": 3,
   "id": "693f1d2d-7805-4850-aec3-ffef6b4e9985",
   "metadata": {},
   "outputs": [],
   "source": [
    "import polars as pl"
   ]
  },
  {
   "cell_type": "code",
   "execution_count": 5,
   "id": "cbec979b-74df-4a69-9317-ae301881065e",
   "metadata": {},
   "outputs": [],
   "source": [
    "cleaned=pl.read_parquet(\"collated_crypto.parquet\")"
   ]
  },
  {
   "cell_type": "code",
   "execution_count": 7,
   "id": "fed34384-c6c3-4682-8a7e-088fbee9f0db",
   "metadata": {},
   "outputs": [
    {
     "data": {
      "text/html": [
       "<div><style>\n",
       ".dataframe > thead > tr,\n",
       ".dataframe > tbody > tr {\n",
       "  text-align: right;\n",
       "  white-space: pre-wrap;\n",
       "}\n",
       "</style>\n",
       "<small>shape: (1_098, 6)</small><table border=\"1\" class=\"dataframe\"><thead><tr><th>symbol</th><th>time</th><th>high</th><th>low</th><th>open</th><th>close</th></tr><tr><td>str</td><td>datetime[μs]</td><td>f64</td><td>f64</td><td>f64</td><td>f64</td></tr></thead><tbody><tr><td>&quot;BTC&quot;</td><td>2023-03-21 00:00:00</td><td>28494.87</td><td>27416.8</td><td>27807.05</td><td>28188.11</td></tr><tr><td>&quot;BTC&quot;</td><td>2023-03-22 00:00:00</td><td>28902.98</td><td>26676.69</td><td>28188.11</td><td>27316.18</td></tr><tr><td>&quot;BTC&quot;</td><td>2023-03-23 00:00:00</td><td>28807.82</td><td>27190.13</td><td>27316.18</td><td>28345.7</td></tr><tr><td>&quot;BTC&quot;</td><td>2023-03-24 00:00:00</td><td>28421.94</td><td>27054.76</td><td>28345.7</td><td>27493.01</td></tr><tr><td>&quot;BTC&quot;</td><td>2023-03-25 00:00:00</td><td>27819.55</td><td>27186.95</td><td>27493.01</td><td>27492.83</td></tr><tr><td>&hellip;</td><td>&hellip;</td><td>&hellip;</td><td>&hellip;</td><td>&hellip;</td><td>&hellip;</td></tr><tr><td>&quot;LTC&quot;</td><td>2024-03-16 00:00:00</td><td>90.71</td><td>82.26</td><td>89.76</td><td>84.07</td></tr><tr><td>&quot;LTC&quot;</td><td>2024-03-17 00:00:00</td><td>86.74</td><td>80.67</td><td>84.07</td><td>85.85</td></tr><tr><td>&quot;LTC&quot;</td><td>2024-03-18 00:00:00</td><td>88.06</td><td>80.77</td><td>85.85</td><td>86.78</td></tr><tr><td>&quot;LTC&quot;</td><td>2024-03-19 00:00:00</td><td>87.8</td><td>77.1</td><td>86.78</td><td>78.46</td></tr><tr><td>&quot;LTC&quot;</td><td>2024-03-20 00:00:00</td><td>85.36</td><td>76.98</td><td>78.46</td><td>84.95</td></tr></tbody></table></div>"
      ],
      "text/plain": [
       "shape: (1_098, 6)\n",
       "┌────────┬─────────────────────┬──────────┬──────────┬──────────┬──────────┐\n",
       "│ symbol ┆ time                ┆ high     ┆ low      ┆ open     ┆ close    │\n",
       "│ ---    ┆ ---                 ┆ ---      ┆ ---      ┆ ---      ┆ ---      │\n",
       "│ str    ┆ datetime[μs]        ┆ f64      ┆ f64      ┆ f64      ┆ f64      │\n",
       "╞════════╪═════════════════════╪══════════╪══════════╪══════════╪══════════╡\n",
       "│ BTC    ┆ 2023-03-21 00:00:00 ┆ 28494.87 ┆ 27416.8  ┆ 27807.05 ┆ 28188.11 │\n",
       "│ BTC    ┆ 2023-03-22 00:00:00 ┆ 28902.98 ┆ 26676.69 ┆ 28188.11 ┆ 27316.18 │\n",
       "│ BTC    ┆ 2023-03-23 00:00:00 ┆ 28807.82 ┆ 27190.13 ┆ 27316.18 ┆ 28345.7  │\n",
       "│ BTC    ┆ 2023-03-24 00:00:00 ┆ 28421.94 ┆ 27054.76 ┆ 28345.7  ┆ 27493.01 │\n",
       "│ BTC    ┆ 2023-03-25 00:00:00 ┆ 27819.55 ┆ 27186.95 ┆ 27493.01 ┆ 27492.83 │\n",
       "│ …      ┆ …                   ┆ …        ┆ …        ┆ …        ┆ …        │\n",
       "│ LTC    ┆ 2024-03-16 00:00:00 ┆ 90.71    ┆ 82.26    ┆ 89.76    ┆ 84.07    │\n",
       "│ LTC    ┆ 2024-03-17 00:00:00 ┆ 86.74    ┆ 80.67    ┆ 84.07    ┆ 85.85    │\n",
       "│ LTC    ┆ 2024-03-18 00:00:00 ┆ 88.06    ┆ 80.77    ┆ 85.85    ┆ 86.78    │\n",
       "│ LTC    ┆ 2024-03-19 00:00:00 ┆ 87.8     ┆ 77.1     ┆ 86.78    ┆ 78.46    │\n",
       "│ LTC    ┆ 2024-03-20 00:00:00 ┆ 85.36    ┆ 76.98    ┆ 78.46    ┆ 84.95    │\n",
       "└────────┴─────────────────────┴──────────┴──────────┴──────────┴──────────┘"
      ]
     },
     "execution_count": 7,
     "metadata": {},
     "output_type": "execute_result"
    }
   ],
   "source": [
    "cleaned"
   ]
  },
  {
   "cell_type": "code",
   "execution_count": null,
   "id": "1efc7705-5f1f-4a97-89ca-5106e693939c",
   "metadata": {},
   "outputs": [],
   "source": []
  }
 ],
 "metadata": {
  "kernelspec": {
   "display_name": "Python [conda env:data_science]",
   "language": "python",
   "name": "conda-env-data_science-py"
  },
  "language_info": {
   "codemirror_mode": {
    "name": "ipython",
    "version": 3
   },
   "file_extension": ".py",
   "mimetype": "text/x-python",
   "name": "python",
   "nbconvert_exporter": "python",
   "pygments_lexer": "ipython3",
   "version": "3.9.12"
  }
 },
 "nbformat": 4,
 "nbformat_minor": 5
}
