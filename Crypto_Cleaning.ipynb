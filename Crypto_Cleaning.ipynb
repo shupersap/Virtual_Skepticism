{
 "cells": [
  {
   "cell_type": "code",
   "execution_count": 1,
   "id": "7d20b976-0d53-4cdc-9c96-f9a3662365d2",
   "metadata": {},
   "outputs": [],
   "source": [
    "#Import Libraries\n",
    "import polars as pl\n",
    "from dotenv import load_dotenv,find_dotenv\n",
    "from selenium import webdriver\n",
    "from selenium.webdriver.chrome.service import Service\n",
    "from selenium.webdriver.chrome.options import Options as chromeoptions\n",
    "from selenium.webdriver.common.by import By\n",
    "from webdriver_manager.chrome import ChromeDriverManager\n",
    "import requests\n",
    "import json\n",
    "import os\n",
    "import re\n",
    "from multiprocessing import Pool"
   ]
  },
  {
   "cell_type": "code",
   "execution_count": 2,
   "id": "226c61bd-ea0c-44d9-838f-953f4385ec97",
   "metadata": {},
   "outputs": [],
   "source": [
    "#Creating webdriver instance as well as options for fullscreen\n",
    "options = chromeoptions()\n",
    "options.add_argument(\"--window-size=1920,1080\")\n",
    "driver = webdriver.Chrome(options=options,service=Service(ChromeDriverManager().install()))"
   ]
  },
  {
   "cell_type": "code",
   "execution_count": 3,
   "id": "25f87b26-925e-4bcc-845b-c47630d2ad26",
   "metadata": {},
   "outputs": [],
   "source": [
    "#retrieve api key from hidden .env file\n",
    "load_dotenv(find_dotenv())\n",
    "hidden_key = os.getenv(\"hidden_api_key\")"
   ]
  },
  {
   "cell_type": "code",
   "execution_count": 4,
   "id": "dff45f6d-9106-4e28-935b-ee39f3d1afc9",
   "metadata": {},
   "outputs": [],
   "source": [
    "#create function to extract data from cryptocompare api\n",
    "def get_data(symbol,api_key):\n",
    "    #url created with symbol and api_key taken as global parameters\n",
    "    url=f\"https://min-api.cryptocompare.com/data/v2/histoday?fsym={symbol}&tsym=USD&limit=365&api_key={api_key}\"\n",
    "    #get api response\n",
    "    response=requests.get(url)\n",
    "    #store pertinent data\n",
    "    data=response.json()[\"Data\"][\"Data\"]\n",
    "    #create a holder for symbols\n",
    "    data_with_symbol = [{'symbol': symbol, **item} for item in data]\n",
    "    return data_with_symbol"
   ]
  },
  {
   "cell_type": "code",
   "execution_count": 5,
   "id": "9d73ac6b-4fc0-4e37-b9df-d6ce828fd8e8",
   "metadata": {},
   "outputs": [],
   "source": [
    "#store manipulative variables\n",
    "symbols=[\"BTC\", \"ETH\", \"LTC\"]\n",
    "api_key= hidden_key"
   ]
  },
  {
   "cell_type": "code",
   "execution_count": 6,
   "id": "53e1906b-fc24-45b8-a6c9-5be4297c0663",
   "metadata": {},
   "outputs": [],
   "source": [
    "#intialize list to hold different ticker crypto data\n",
    "alls_df =[]\n",
    "with Pool(4) as pool:\n",
    "    for symbol in symbols:\n",
    "        result= get_data(symbol, api_key)\n",
    "        alls_df.append(pl.DataFrame(result))"
   ]
  },
  {
   "cell_type": "code",
   "execution_count": 7,
   "id": "1906eb88-24e4-4567-a4c3-5595d99a74d1",
   "metadata": {},
   "outputs": [],
   "source": [
    "#combine all the tickers into one frame\n",
    "df_final=pl.concat(alls_df)"
   ]
  },
  {
   "cell_type": "code",
   "execution_count": 8,
   "id": "0bed5626-5cf9-4614-89b4-94e1b3313585",
   "metadata": {},
   "outputs": [],
   "source": [
    "#convert to datetime\n",
    "df_fixed=df_final.with_columns(pl.from_epoch(pl.col(\"time\"),time_unit=\"s\"))"
   ]
  },
  {
   "cell_type": "code",
   "execution_count": 9,
   "id": "e52a6403-ed42-45f5-9a72-c1cd7937e759",
   "metadata": {},
   "outputs": [
    {
     "data": {
      "text/html": [
       "<div><style>\n",
       ".dataframe > thead > tr,\n",
       ".dataframe > tbody > tr {\n",
       "  text-align: right;\n",
       "  white-space: pre-wrap;\n",
       "}\n",
       "</style>\n",
       "<small>shape: (1_098, 10)</small><table border=\"1\" class=\"dataframe\"><thead><tr><th>symbol</th><th>time</th><th>high</th><th>low</th><th>open</th><th>volumefrom</th><th>volumeto</th><th>close</th><th>conversionType</th><th>conversionSymbol</th></tr><tr><td>str</td><td>datetime[μs]</td><td>f64</td><td>f64</td><td>f64</td><td>f64</td><td>f64</td><td>f64</td><td>str</td><td>str</td></tr></thead><tbody><tr><td>&quot;BTC&quot;</td><td>2023-04-17 00:00:00</td><td>30331.32</td><td>29265.91</td><td>30322.37</td><td>34966.91</td><td>1.0375e9</td><td>29446.34</td><td>&quot;direct&quot;</td><td>&quot;&quot;</td></tr><tr><td>&quot;BTC&quot;</td><td>2023-04-18 00:00:00</td><td>30485.26</td><td>29135.27</td><td>29446.34</td><td>36469.48</td><td>1.0952e9</td><td>30395.53</td><td>&quot;direct&quot;</td><td>&quot;&quot;</td></tr><tr><td>&quot;BTC&quot;</td><td>2023-04-19 00:00:00</td><td>30419.74</td><td>28615.79</td><td>30395.53</td><td>54525.22</td><td>1.6005e9</td><td>28821.91</td><td>&quot;direct&quot;</td><td>&quot;&quot;</td></tr><tr><td>&quot;BTC&quot;</td><td>2023-04-20 00:00:00</td><td>29094.98</td><td>28007.09</td><td>28821.91</td><td>41297.76</td><td>1.1806e9</td><td>28248.11</td><td>&quot;direct&quot;</td><td>&quot;&quot;</td></tr><tr><td>&quot;BTC&quot;</td><td>2023-04-21 00:00:00</td><td>28365.2</td><td>27173.44</td><td>28248.11</td><td>43368.57</td><td>1.2077e9</td><td>27261.17</td><td>&quot;direct&quot;</td><td>&quot;&quot;</td></tr><tr><td>&hellip;</td><td>&hellip;</td><td>&hellip;</td><td>&hellip;</td><td>&hellip;</td><td>&hellip;</td><td>&hellip;</td><td>&hellip;</td><td>&hellip;</td><td>&hellip;</td></tr><tr><td>&quot;LTC&quot;</td><td>2024-04-12 00:00:00</td><td>99.51</td><td>80.31</td><td>98.75</td><td>922658.84</td><td>8.2456e7</td><td>86.16</td><td>&quot;direct&quot;</td><td>&quot;&quot;</td></tr><tr><td>&quot;LTC&quot;</td><td>2024-04-13 00:00:00</td><td>86.6</td><td>70.87</td><td>86.16</td><td>1.1034e6</td><td>8.8090e7</td><td>77.5</td><td>&quot;direct&quot;</td><td>&quot;&quot;</td></tr><tr><td>&quot;LTC&quot;</td><td>2024-04-14 00:00:00</td><td>80.44</td><td>73.93</td><td>77.5</td><td>668565.82</td><td>5.1936e7</td><td>79.82</td><td>&quot;direct&quot;</td><td>&quot;&quot;</td></tr><tr><td>&quot;LTC&quot;</td><td>2024-04-15 00:00:00</td><td>82.87</td><td>75.7</td><td>79.82</td><td>546475.85</td><td>4.3354e7</td><td>78.11</td><td>&quot;direct&quot;</td><td>&quot;&quot;</td></tr><tr><td>&quot;LTC&quot;</td><td>2024-04-16 00:00:00</td><td>78.27</td><td>77.3</td><td>78.11</td><td>12801.98</td><td>994644.27</td><td>77.35</td><td>&quot;direct&quot;</td><td>&quot;&quot;</td></tr></tbody></table></div>"
      ],
      "text/plain": [
       "shape: (1_098, 10)\n",
       "┌────────┬─────────────┬──────────┬──────────┬───┬───────────┬──────────┬─────────────┬────────────┐\n",
       "│ symbol ┆ time        ┆ high     ┆ low      ┆ … ┆ volumeto  ┆ close    ┆ conversionT ┆ conversion │\n",
       "│ ---    ┆ ---         ┆ ---      ┆ ---      ┆   ┆ ---       ┆ ---      ┆ ype         ┆ Symbol     │\n",
       "│ str    ┆ datetime[μs ┆ f64      ┆ f64      ┆   ┆ f64       ┆ f64      ┆ ---         ┆ ---        │\n",
       "│        ┆ ]           ┆          ┆          ┆   ┆           ┆          ┆ str         ┆ str        │\n",
       "╞════════╪═════════════╪══════════╪══════════╪═══╪═══════════╪══════════╪═════════════╪════════════╡\n",
       "│ BTC    ┆ 2023-04-17  ┆ 30331.32 ┆ 29265.91 ┆ … ┆ 1.0375e9  ┆ 29446.34 ┆ direct      ┆            │\n",
       "│        ┆ 00:00:00    ┆          ┆          ┆   ┆           ┆          ┆             ┆            │\n",
       "│ BTC    ┆ 2023-04-18  ┆ 30485.26 ┆ 29135.27 ┆ … ┆ 1.0952e9  ┆ 30395.53 ┆ direct      ┆            │\n",
       "│        ┆ 00:00:00    ┆          ┆          ┆   ┆           ┆          ┆             ┆            │\n",
       "│ BTC    ┆ 2023-04-19  ┆ 30419.74 ┆ 28615.79 ┆ … ┆ 1.6005e9  ┆ 28821.91 ┆ direct      ┆            │\n",
       "│        ┆ 00:00:00    ┆          ┆          ┆   ┆           ┆          ┆             ┆            │\n",
       "│ BTC    ┆ 2023-04-20  ┆ 29094.98 ┆ 28007.09 ┆ … ┆ 1.1806e9  ┆ 28248.11 ┆ direct      ┆            │\n",
       "│        ┆ 00:00:00    ┆          ┆          ┆   ┆           ┆          ┆             ┆            │\n",
       "│ BTC    ┆ 2023-04-21  ┆ 28365.2  ┆ 27173.44 ┆ … ┆ 1.2077e9  ┆ 27261.17 ┆ direct      ┆            │\n",
       "│        ┆ 00:00:00    ┆          ┆          ┆   ┆           ┆          ┆             ┆            │\n",
       "│ …      ┆ …           ┆ …        ┆ …        ┆ … ┆ …         ┆ …        ┆ …           ┆ …          │\n",
       "│ LTC    ┆ 2024-04-12  ┆ 99.51    ┆ 80.31    ┆ … ┆ 8.2456e7  ┆ 86.16    ┆ direct      ┆            │\n",
       "│        ┆ 00:00:00    ┆          ┆          ┆   ┆           ┆          ┆             ┆            │\n",
       "│ LTC    ┆ 2024-04-13  ┆ 86.6     ┆ 70.87    ┆ … ┆ 8.8090e7  ┆ 77.5     ┆ direct      ┆            │\n",
       "│        ┆ 00:00:00    ┆          ┆          ┆   ┆           ┆          ┆             ┆            │\n",
       "│ LTC    ┆ 2024-04-14  ┆ 80.44    ┆ 73.93    ┆ … ┆ 5.1936e7  ┆ 79.82    ┆ direct      ┆            │\n",
       "│        ┆ 00:00:00    ┆          ┆          ┆   ┆           ┆          ┆             ┆            │\n",
       "│ LTC    ┆ 2024-04-15  ┆ 82.87    ┆ 75.7     ┆ … ┆ 4.3354e7  ┆ 78.11    ┆ direct      ┆            │\n",
       "│        ┆ 00:00:00    ┆          ┆          ┆   ┆           ┆          ┆             ┆            │\n",
       "│ LTC    ┆ 2024-04-16  ┆ 78.27    ┆ 77.3     ┆ … ┆ 994644.27 ┆ 77.35    ┆ direct      ┆            │\n",
       "│        ┆ 00:00:00    ┆          ┆          ┆   ┆           ┆          ┆             ┆            │\n",
       "└────────┴─────────────┴──────────┴──────────┴───┴───────────┴──────────┴─────────────┴────────────┘"
      ]
     },
     "execution_count": 9,
     "metadata": {},
     "output_type": "execute_result"
    }
   ],
   "source": [
    "df_fixed"
   ]
  },
  {
   "cell_type": "code",
   "execution_count": 10,
   "id": "2b57f848-1a21-467e-a5df-d271bcaf762f",
   "metadata": {},
   "outputs": [],
   "source": [
    "#drop unnecessary columns\n",
    "df_fixed=df_fixed.drop(\"volumefrom\",\"volumeto\",\"conversionType\",\"conversionSymbol\")"
   ]
  },
  {
   "cell_type": "code",
   "execution_count": 11,
   "id": "372c7966-e863-40bb-a1ea-f0cf4be9ee51",
   "metadata": {},
   "outputs": [
    {
     "data": {
      "text/html": [
       "<div><style>\n",
       ".dataframe > thead > tr,\n",
       ".dataframe > tbody > tr {\n",
       "  text-align: right;\n",
       "  white-space: pre-wrap;\n",
       "}\n",
       "</style>\n",
       "<small>shape: (1_098, 6)</small><table border=\"1\" class=\"dataframe\"><thead><tr><th>symbol</th><th>time</th><th>high</th><th>low</th><th>open</th><th>close</th></tr><tr><td>str</td><td>datetime[μs]</td><td>f64</td><td>f64</td><td>f64</td><td>f64</td></tr></thead><tbody><tr><td>&quot;BTC&quot;</td><td>2023-04-17 00:00:00</td><td>30331.32</td><td>29265.91</td><td>30322.37</td><td>29446.34</td></tr><tr><td>&quot;BTC&quot;</td><td>2023-04-18 00:00:00</td><td>30485.26</td><td>29135.27</td><td>29446.34</td><td>30395.53</td></tr><tr><td>&quot;BTC&quot;</td><td>2023-04-19 00:00:00</td><td>30419.74</td><td>28615.79</td><td>30395.53</td><td>28821.91</td></tr><tr><td>&quot;BTC&quot;</td><td>2023-04-20 00:00:00</td><td>29094.98</td><td>28007.09</td><td>28821.91</td><td>28248.11</td></tr><tr><td>&quot;BTC&quot;</td><td>2023-04-21 00:00:00</td><td>28365.2</td><td>27173.44</td><td>28248.11</td><td>27261.17</td></tr><tr><td>&hellip;</td><td>&hellip;</td><td>&hellip;</td><td>&hellip;</td><td>&hellip;</td><td>&hellip;</td></tr><tr><td>&quot;LTC&quot;</td><td>2024-04-12 00:00:00</td><td>99.51</td><td>80.31</td><td>98.75</td><td>86.16</td></tr><tr><td>&quot;LTC&quot;</td><td>2024-04-13 00:00:00</td><td>86.6</td><td>70.87</td><td>86.16</td><td>77.5</td></tr><tr><td>&quot;LTC&quot;</td><td>2024-04-14 00:00:00</td><td>80.44</td><td>73.93</td><td>77.5</td><td>79.82</td></tr><tr><td>&quot;LTC&quot;</td><td>2024-04-15 00:00:00</td><td>82.87</td><td>75.7</td><td>79.82</td><td>78.11</td></tr><tr><td>&quot;LTC&quot;</td><td>2024-04-16 00:00:00</td><td>78.27</td><td>77.3</td><td>78.11</td><td>77.35</td></tr></tbody></table></div>"
      ],
      "text/plain": [
       "shape: (1_098, 6)\n",
       "┌────────┬─────────────────────┬──────────┬──────────┬──────────┬──────────┐\n",
       "│ symbol ┆ time                ┆ high     ┆ low      ┆ open     ┆ close    │\n",
       "│ ---    ┆ ---                 ┆ ---      ┆ ---      ┆ ---      ┆ ---      │\n",
       "│ str    ┆ datetime[μs]        ┆ f64      ┆ f64      ┆ f64      ┆ f64      │\n",
       "╞════════╪═════════════════════╪══════════╪══════════╪══════════╪══════════╡\n",
       "│ BTC    ┆ 2023-04-17 00:00:00 ┆ 30331.32 ┆ 29265.91 ┆ 30322.37 ┆ 29446.34 │\n",
       "│ BTC    ┆ 2023-04-18 00:00:00 ┆ 30485.26 ┆ 29135.27 ┆ 29446.34 ┆ 30395.53 │\n",
       "│ BTC    ┆ 2023-04-19 00:00:00 ┆ 30419.74 ┆ 28615.79 ┆ 30395.53 ┆ 28821.91 │\n",
       "│ BTC    ┆ 2023-04-20 00:00:00 ┆ 29094.98 ┆ 28007.09 ┆ 28821.91 ┆ 28248.11 │\n",
       "│ BTC    ┆ 2023-04-21 00:00:00 ┆ 28365.2  ┆ 27173.44 ┆ 28248.11 ┆ 27261.17 │\n",
       "│ …      ┆ …                   ┆ …        ┆ …        ┆ …        ┆ …        │\n",
       "│ LTC    ┆ 2024-04-12 00:00:00 ┆ 99.51    ┆ 80.31    ┆ 98.75    ┆ 86.16    │\n",
       "│ LTC    ┆ 2024-04-13 00:00:00 ┆ 86.6     ┆ 70.87    ┆ 86.16    ┆ 77.5     │\n",
       "│ LTC    ┆ 2024-04-14 00:00:00 ┆ 80.44    ┆ 73.93    ┆ 77.5     ┆ 79.82    │\n",
       "│ LTC    ┆ 2024-04-15 00:00:00 ┆ 82.87    ┆ 75.7     ┆ 79.82    ┆ 78.11    │\n",
       "│ LTC    ┆ 2024-04-16 00:00:00 ┆ 78.27    ┆ 77.3     ┆ 78.11    ┆ 77.35    │\n",
       "└────────┴─────────────────────┴──────────┴──────────┴──────────┴──────────┘"
      ]
     },
     "execution_count": 11,
     "metadata": {},
     "output_type": "execute_result"
    }
   ],
   "source": [
    "df_fixed"
   ]
  },
  {
   "cell_type": "code",
   "execution_count": 12,
   "id": "4792d340-0f27-4c01-95a1-2cd7541c1642",
   "metadata": {},
   "outputs": [],
   "source": [
    "#transform stored data into a more efficent format\n",
    "df_fixed.write_parquet(\"collated_crypto.parquet\")"
   ]
  }
 ],
 "metadata": {
  "kernelspec": {
   "display_name": "Python [conda env:data_science]",
   "language": "python",
   "name": "conda-env-data_science-py"
  },
  "language_info": {
   "codemirror_mode": {
    "name": "ipython",
    "version": 3
   },
   "file_extension": ".py",
   "mimetype": "text/x-python",
   "name": "python",
   "nbconvert_exporter": "python",
   "pygments_lexer": "ipython3",
   "version": "3.9.12"
  }
 },
 "nbformat": 4,
 "nbformat_minor": 5
}
